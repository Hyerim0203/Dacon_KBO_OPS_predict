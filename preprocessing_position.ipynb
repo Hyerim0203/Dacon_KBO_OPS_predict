{
 "cells": [
  {
   "cell_type": "code",
   "execution_count": 1,
   "metadata": {},
   "outputs": [],
   "source": [
    "from selenium import webdriver\n",
    "from bs4 import BeautifulSoup\n",
    "import re\n",
    "import time\n",
    "import pandas as pd\n",
    "import numpy as np\n",
    "\n",
    "regular = pd.read_csv(\"../Regular_Season_Batter.csv\")"
   ]
  },
  {
   "cell_type": "markdown",
   "metadata": {},
   "source": [
    "# 선수 포지션 결측치 채우기"
   ]
  },
  {
   "cell_type": "markdown",
   "metadata": {},
   "source": [
    "## 선수 포지션 크롤링"
   ]
  },
  {
   "cell_type": "code",
   "execution_count": 544,
   "metadata": {
    "scrolled": true
   },
   "outputs": [
    {
     "name": "stdout",
     "output_type": "stream",
     "text": [
      "백승룡 완료\n",
      "진갑용 완료\n",
      "강병식 완료\n",
      "강봉규 완료\n",
      "강정호 완료\n",
      "고동진 완료\n",
      "고영민 완료\n",
      "이종환 완료\n",
      "박재홍 완료\n",
      "권용관 완료\n",
      "김경언 완료\n",
      "박재상 완료\n",
      "김동주 완료\n",
      "신현철 완료\n",
      "김연훈 완료\n",
      "연경흠 완료\n",
      "김원섭 완료\n",
      "나바로 완료\n",
      "김종호 완료\n",
      "나성용 완료\n",
      "로티노 완료\n",
      "마낙길 완료\n",
      "모상기 완료\n",
      "문우람 완료\n",
      "박계현 완료\n",
      "박기남 완료\n",
      "박노민 완료\n",
      "박용근 완료\n",
      "박준서 완료\n",
      "박진만 완료\n",
      "박진원 완료\n",
      "성의준 완료\n",
      "손용석 완료\n",
      "송지만 완료\n",
      "스나이더 완료\n",
      "신경현 완료\n",
      "신명철 완료\n",
      "안치용 완료\n",
      "알드리지 완료\n",
      "양영동 완료\n",
      "오재필 완료\n",
      "용덕한 완료\n",
      "우동균 완료\n",
      "유선정 완료\n",
      "이종범 완료\n",
      "유재혁 완료\n",
      "윤완주 완료\n",
      "윤요섭 완료\n",
      "이민재 완료\n",
      "이승재 완료\n",
      "이양기 완료\n",
      "이여상 완료\n",
      "이우민 완료\n",
      "이인구 완료\n",
      "이정식 완료\n",
      "이태원 완료\n",
      "한상훈 완료\n",
      "이현곤 완료\n",
      "이홍구 완료\n",
      "이희근 완료\n",
      "임재철 완료\n",
      "장성호 완료\n",
      "전현태 완료\n",
      "정보명 완료\n",
      "정수성 완료\n",
      "정현석 완료\n",
      "정형식 완료\n",
      "조성환 완료\n",
      "조영훈 완료\n",
      "조인성 완료\n",
      "조중근 완료\n",
      "지재옥 완료\n",
      "차일목 완료\n",
      "채상병 완료\n",
      "최경철 완료\n",
      "최동수 완료\n",
      "최훈락 완료\n",
      "칸투 완료\n",
      "테임즈 완료\n",
      "피에 완료\n",
      "한윤섭 완료\n",
      "현재윤 완료\n",
      "홍성흔 완료\n",
      "황목치승 완료\n",
      "황선일 완료\n",
      "황정립 완료\n"
     ]
    }
   ],
   "source": [
    "# 선수 포지션 및 좌타우타 정보 크롤링\n",
    "driver = webdriver.Chrome('./chromedriver.exe')\n",
    "\n",
    "find_info = {}\n",
    "people = regular[\"batter_name\"][regular[\"position\"].isnull()].unique()\n",
    "for person in people:\n",
    "    driver.get(f\"http://www.statiz.co.kr/player.php?name={person}\")\n",
    "    driver.implicitly_wait(5)\n",
    "    \n",
    "    # 광고 생성 창 닫음\n",
    "    driver.find_element_by_css_selector(\"div#foin_close_02eu\").click()\n",
    "    try: \n",
    "        driver.find_element_by_css_selector(\"section.content div.btn-group\").click()\n",
    "    except: \n",
    "        print(\"오류 발생\")\n",
    "        time.sleep(5)\n",
    "\n",
    "    time.sleep(1)\n",
    "    container = driver.find_elements_by_css_selector(\"section.content div.btn-group ul.dropdown-menu > li\"), \n",
    "    find_info[person]=[container[0][1].text.split(\" \")[-1], container[0][7].text.split(\" \")[-1]]\n",
    "    print(person,\"완료\")"
   ]
  },
  {
   "cell_type": "code",
   "execution_count": 545,
   "metadata": {
    "scrolled": true
   },
   "outputs": [
    {
     "data": {
      "text/plain": [
       "{'백승룡': ['우투우타', '2루수'],\n",
       " '진갑용': ['우투우타', '포수'],\n",
       " '강병식': ['우투좌타', '지명타자'],\n",
       " '강봉규': ['우투우타', '1루수'],\n",
       " '강정호': ['우투우타', '유격수'],\n",
       " '고동진': ['좌투좌타', '우익수'],\n",
       " '고영민': ['우투우타', '1루수'],\n",
       " '이종환': ['좌투좌타', '지명타자'],\n",
       " '박재홍': ['우투우타', '우익수'],\n",
       " '권용관': ['우투우타', '유격수'],\n",
       " '김경언': ['좌투좌타', '우익수'],\n",
       " '박재상': ['좌투좌타', '좌익수'],\n",
       " '김동주': ['우투우타', '3루수'],\n",
       " '신현철': ['우투우타', '3루수'],\n",
       " '김연훈': ['우투우타', '2루수'],\n",
       " '연경흠': ['좌투좌타', '좌익수'],\n",
       " '김원섭': ['우투좌타', '우익수'],\n",
       " '나바로': ['우투우타', '2루수'],\n",
       " '김종호': ['좌투좌타', '좌익수'],\n",
       " '나성용': ['우투우타', '지명타자'],\n",
       " '로티노': ['우투우타', '좌익수'],\n",
       " '마낙길': ['우투우타', '좌익수'],\n",
       " '모상기': ['우투우타', '1루수'],\n",
       " '문우람': ['우투좌타', '우익수'],\n",
       " '박계현': ['우투좌타', '2루수'],\n",
       " '박기남': ['우투우타', '3루수'],\n",
       " '박노민': ['우투우타', '포수'],\n",
       " '박용근': ['우투우타', '3루수'],\n",
       " '박준서': ['우투양타', '2루수'],\n",
       " '박진만': ['우투우타', '3루수'],\n",
       " '박진원': ['좌투좌타', '좌익수'],\n",
       " '성의준': ['우투우타', '3루수'],\n",
       " '손용석': ['우투우타', '3루수'],\n",
       " '송지만': ['우투우타', '우익수'],\n",
       " '스나이더': ['좌투좌타', '우익수'],\n",
       " '신경현': ['우투우타', '포수'],\n",
       " '신명철': ['우투우타', '1루수'],\n",
       " '안치용': ['우투우타', '좌익수'],\n",
       " '알드리지': ['좌투좌타', '좌익수'],\n",
       " '양영동': ['좌투좌타', '우익수'],\n",
       " '오재필': ['우투우타', '중견수'],\n",
       " '용덕한': ['우투우타', '포수'],\n",
       " '우동균': ['우투좌타', '좌익수'],\n",
       " '유선정': ['우투우타', '포수'],\n",
       " '이종범': ['우투우타', '우익수'],\n",
       " '유재혁': ['우투우타', '우익수'],\n",
       " '윤완주': ['우투우타', '2루수'],\n",
       " '윤요섭': ['우투우타', '지명타자'],\n",
       " '이민재': ['좌투좌타', '중견수'],\n",
       " '이승재': ['우투우타', '포수'],\n",
       " '이양기': ['우투우타', '좌익수'],\n",
       " '이여상': ['우투우타', '유격수'],\n",
       " '이우민': ['우투좌타', '중견수'],\n",
       " '이인구': ['우투좌타', '좌익수'],\n",
       " '이정식': ['우투양타', '포수'],\n",
       " '이태원': ['우투우타', '포수'],\n",
       " '한상훈': ['우투좌타', '3루수'],\n",
       " '이현곤': ['우투우타', '3루수'],\n",
       " '이홍구': ['우투우타', '포수'],\n",
       " '이희근': ['우투우타', '포수'],\n",
       " '임재철': ['우투우타', '좌익수'],\n",
       " '장성호': ['좌투좌타', '지명타자'],\n",
       " '전현태': ['우투양타', '2루수'],\n",
       " '정보명': ['우투우타', '지명타자'],\n",
       " '정수성': ['우투양타', '우익수'],\n",
       " '정현석': ['우투우타', '우익수'],\n",
       " '정형식': ['우투좌타', '중견수'],\n",
       " '조성환': ['우투우타', '2루수'],\n",
       " '조영훈': ['좌투좌타', '1루수'],\n",
       " '조인성': ['우투우타', '포수'],\n",
       " '조중근': ['좌투좌타', '1루수'],\n",
       " '지재옥': ['우투좌타', '포수'],\n",
       " '차일목': ['우투우타', '포수'],\n",
       " '채상병': ['우투우타', '포수'],\n",
       " '최경철': ['우투우타', '포수'],\n",
       " '최동수': ['우투우타', '1루수'],\n",
       " '최훈락': ['좌투좌타', '중견수'],\n",
       " '칸투': ['우투우타', '1루수'],\n",
       " '테임즈': ['우투좌타', '1루수'],\n",
       " '피에': ['좌투좌타', '중견수'],\n",
       " '한윤섭': ['우투양타', '2루수'],\n",
       " '현재윤': ['우투우타', '포수'],\n",
       " '홍성흔': ['우투우타', '지명타자'],\n",
       " '황목치승': ['우투우타', '유격수'],\n",
       " '황선일': ['좌투좌타', '우익수'],\n",
       " '황정립': ['우투좌타', '1루수']}"
      ]
     },
     "execution_count": 545,
     "metadata": {},
     "output_type": "execute_result"
    }
   ],
   "source": [
    "find_info"
   ]
  },
  {
   "cell_type": "markdown",
   "metadata": {},
   "source": [
    "## 선수 포지션 결측치 채우기\n",
    "- STATIZ사이트를 선수별 검색을 통해 크롤링하여 선수 포지션 결측치를 채워넣음"
   ]
  },
  {
   "cell_type": "code",
   "execution_count": 633,
   "metadata": {},
   "outputs": [
    {
     "data": {
      "text/plain": [
       "[('백승룡', ['우투우타', '2루수']),\n",
       " ('진갑용', ['우투우타', '포수']),\n",
       " ('강병식', ['우투좌타', '지명타자']),\n",
       " ('강봉규', ['우투우타', '1루수']),\n",
       " ('강정호', ['우투우타', '유격수']),\n",
       " ('고도현', ['우투우타', '좌익수']),\n",
       " ('고동진', ['좌투좌타', '우익수']),\n",
       " ('고메즈', ['우투우타', '유격수']),\n",
       " ('고영민', ['우투우타', '1루수']),\n",
       " ('이종환', ['좌투좌타', '지명타자']),\n",
       " ('박재홍', ['우투우타', '우익수']),\n",
       " ('권용관', ['우투우타', '유격수']),\n",
       " ('김경모', ['우투우타', '2루수']),\n",
       " ('김경언', ['좌투좌타', '우익수']),\n",
       " ('김광연', ['우투좌타', '유격수'])]"
      ]
     },
     "execution_count": 633,
     "metadata": {},
     "output_type": "execute_result"
    }
   ],
   "source": [
    "# 크롤링한 선수 포지션 데이터\n",
    "list(find_info.items())[:15]"
   ]
  },
  {
   "cell_type": "markdown",
   "metadata": {},
   "source": [
    "### 포지션 매칭\n",
    "- 내야수 : 1루수, 2루수, 3루수, 유격수, 외야수\n",
    "- 외야수 : 좌익수, 중견수, 우익수\n",
    "- 지명타자 : 지명타자\n",
    "- 포수 : 포수"
   ]
  },
  {
   "cell_type": "code",
   "execution_count": 613,
   "metadata": {},
   "outputs": [],
   "source": [
    "raw2 = raw[:]"
   ]
  },
  {
   "cell_type": "code",
   "execution_count": 614,
   "metadata": {},
   "outputs": [],
   "source": [
    "regular = raw[:]"
   ]
  },
  {
   "cell_type": "code",
   "execution_count": 634,
   "metadata": {},
   "outputs": [],
   "source": [
    "inner = [\"1루수\",\"2루수\",\"3루수\",\"유격수\",\"외야수\"] # 내야수에 속하는 position\n",
    "outer = [\"좌익수\",\"중견수\",\"우익수\"] # 외야수에 속하는 position\n",
    "taja = [\"지명타자\"] # 지명타자"
   ]
  },
  {
   "cell_type": "code",
   "execution_count": 635,
   "metadata": {},
   "outputs": [],
   "source": [
    "# 포지션을 매치해주는 함수\n",
    "def match_position(x):\n",
    "    if x[1] in inner:\n",
    "        return \"내야수\"+f\"({x[0]})\"\n",
    "    elif x[1] in outer:\n",
    "        return \"외야수\"+f\"({x[0]})\"\n",
    "    elif x[1] in taja:\n",
    "        return \"지명타자\"+f\"({x[0]})\"\n",
    "    else:\n",
    "        return \"포수\"+f\"({x[0]})\""
   ]
  },
  {
   "cell_type": "code",
   "execution_count": 636,
   "metadata": {},
   "outputs": [],
   "source": [
    "# 크롤링한 데이터 포지션으로 매칭\n",
    "position_values = list(map(match_position, list(find_info.values())))"
   ]
  },
  {
   "cell_type": "code",
   "execution_count": 637,
   "metadata": {},
   "outputs": [],
   "source": [
    "# regular 데이터프레임의 position 결측값 채우기\n",
    "for idx, i in enumerate(find_info.keys()):\n",
    "    regular.loc[regular['batter_name']==i, \"position\"]=position_values[idx]"
   ]
  },
  {
   "cell_type": "code",
   "execution_count": 650,
   "metadata": {
    "scrolled": true
   },
   "outputs": [
    {
     "data": {
      "text/plain": [
       "0"
      ]
     },
     "execution_count": 650,
     "metadata": {},
     "output_type": "execute_result"
    }
   ],
   "source": [
    "# 결측치 확인\n",
    "regular[\"position\"].isnull().sum()"
   ]
  },
  {
   "cell_type": "code",
   "execution_count": 647,
   "metadata": {},
   "outputs": [],
   "source": [
    "# 데이터 저장\n",
    "regular.to_csv(\"../Regular_Season_Batter.csv\", index=False, encoding='utf-8-sig')"
   ]
  }
 ],
 "metadata": {
  "kernelspec": {
   "display_name": "Python 3",
   "language": "python",
   "name": "python3"
  },
  "language_info": {
   "codemirror_mode": {
    "name": "ipython",
    "version": 3
   },
   "file_extension": ".py",
   "mimetype": "text/x-python",
   "name": "python",
   "nbconvert_exporter": "python",
   "pygments_lexer": "ipython3",
   "version": "3.8.3"
  }
 },
 "nbformat": 4,
 "nbformat_minor": 4
}
