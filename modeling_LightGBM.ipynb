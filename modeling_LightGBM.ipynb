{
 "cells": [
  {
   "cell_type": "markdown",
   "metadata": {},
   "source": [
    "- 변동성이 큰 지표(ex. avg)를 예측할 땐 역대 지표를 반영하는 것이 좋음"
   ]
  },
  {
   "cell_type": "code",
   "execution_count": 26,
   "metadata": {},
   "outputs": [],
   "source": [
    "import pandas as pd\n",
    "import numpy as np\n",
    "import matplotlib.pyplot as plt\n",
    "import seaborn as sns\n",
    "%matplotlib inline\n",
    "\n",
    "from matplotlib import font_manager, rc\n",
    "import matplotlib as mpl\n",
    "font_path = \"C:\\\\Users\\\\이혜림\\\\Desktop\\\\Bita5/malgun.ttf\" \n",
    "font_name = font_manager.FontProperties(fname=font_path).get_name()\n",
    "rc(\"font\",family=font_name)\n",
    "mpl.rcParams[\"axes.unicode_minus\"]=False\n",
    "import os\n",
    "import warnings\n",
    "warnings.filterwarnings(\"ignore\")"
   ]
  },
  {
   "cell_type": "code",
   "execution_count": 27,
   "metadata": {},
   "outputs": [],
   "source": [
    "regular_path = os.path.join(\"C:\\\\Users\\\\이혜림\\\\Desktop\\\\데이콘_KBO\",\"6th_data\",\"Regular_Season_Batter.csv\") # 파일 경로\n",
    "regular = pd.read_csv(regular_path) # 파일 불러오기"
   ]
  },
  {
   "cell_type": "code",
   "execution_count": 3,
   "metadata": {},
   "outputs": [
    {
     "data": {
      "text/html": [
       "<div>\n",
       "<style scoped>\n",
       "    .dataframe tbody tr th:only-of-type {\n",
       "        vertical-align: middle;\n",
       "    }\n",
       "\n",
       "    .dataframe tbody tr th {\n",
       "        vertical-align: top;\n",
       "    }\n",
       "\n",
       "    .dataframe thead th {\n",
       "        text-align: right;\n",
       "    }\n",
       "</style>\n",
       "<table border=\"1\" class=\"dataframe\">\n",
       "  <thead>\n",
       "    <tr style=\"text-align: right;\">\n",
       "      <th></th>\n",
       "      <th>batter_id</th>\n",
       "      <th>batter_name</th>\n",
       "      <th>year</th>\n",
       "      <th>team</th>\n",
       "      <th>avg</th>\n",
       "      <th>G</th>\n",
       "      <th>AB</th>\n",
       "      <th>R</th>\n",
       "      <th>H</th>\n",
       "      <th>2B</th>\n",
       "      <th>3B</th>\n",
       "      <th>HR</th>\n",
       "      <th>TB</th>\n",
       "      <th>RBI</th>\n",
       "      <th>SB</th>\n",
       "      <th>CS</th>\n",
       "      <th>BB</th>\n",
       "      <th>HBP</th>\n",
       "      <th>SO</th>\n",
       "      <th>GDP</th>\n",
       "      <th>SLG</th>\n",
       "      <th>OBP</th>\n",
       "      <th>E</th>\n",
       "      <th>height/weight</th>\n",
       "      <th>year_born</th>\n",
       "      <th>position</th>\n",
       "      <th>career</th>\n",
       "      <th>starting_salary</th>\n",
       "      <th>OPS</th>\n",
       "    </tr>\n",
       "  </thead>\n",
       "  <tbody>\n",
       "    <tr>\n",
       "      <th>0</th>\n",
       "      <td>0</td>\n",
       "      <td>가르시아</td>\n",
       "      <td>2018</td>\n",
       "      <td>LG</td>\n",
       "      <td>0.339</td>\n",
       "      <td>50</td>\n",
       "      <td>183</td>\n",
       "      <td>27</td>\n",
       "      <td>62</td>\n",
       "      <td>9</td>\n",
       "      <td>0</td>\n",
       "      <td>8</td>\n",
       "      <td>95</td>\n",
       "      <td>34</td>\n",
       "      <td>5</td>\n",
       "      <td>0</td>\n",
       "      <td>9</td>\n",
       "      <td>8</td>\n",
       "      <td>25</td>\n",
       "      <td>3</td>\n",
       "      <td>0.519</td>\n",
       "      <td>0.383</td>\n",
       "      <td>9</td>\n",
       "      <td>177cm/93kg</td>\n",
       "      <td>1985년 04월 12일</td>\n",
       "      <td>내야수(우투우타)</td>\n",
       "      <td>쿠바 Ciego de Avila Maximo Gomez Baez(대)</td>\n",
       "      <td>NaN</td>\n",
       "      <td>0.902</td>\n",
       "    </tr>\n",
       "    <tr>\n",
       "      <th>1</th>\n",
       "      <td>1</td>\n",
       "      <td>강경학</td>\n",
       "      <td>2011</td>\n",
       "      <td>한화</td>\n",
       "      <td>0.000</td>\n",
       "      <td>2</td>\n",
       "      <td>1</td>\n",
       "      <td>0</td>\n",
       "      <td>0</td>\n",
       "      <td>0</td>\n",
       "      <td>0</td>\n",
       "      <td>0</td>\n",
       "      <td>0</td>\n",
       "      <td>0</td>\n",
       "      <td>0</td>\n",
       "      <td>0</td>\n",
       "      <td>0</td>\n",
       "      <td>0</td>\n",
       "      <td>1</td>\n",
       "      <td>0</td>\n",
       "      <td>0.000</td>\n",
       "      <td>0.000</td>\n",
       "      <td>1</td>\n",
       "      <td>180cm/72kg</td>\n",
       "      <td>1992년 08월 11일</td>\n",
       "      <td>내야수(우투좌타)</td>\n",
       "      <td>광주대성초-광주동성중-광주동성고</td>\n",
       "      <td>10000만원</td>\n",
       "      <td>0.000</td>\n",
       "    </tr>\n",
       "    <tr>\n",
       "      <th>2</th>\n",
       "      <td>1</td>\n",
       "      <td>강경학</td>\n",
       "      <td>2014</td>\n",
       "      <td>한화</td>\n",
       "      <td>0.221</td>\n",
       "      <td>41</td>\n",
       "      <td>86</td>\n",
       "      <td>11</td>\n",
       "      <td>19</td>\n",
       "      <td>2</td>\n",
       "      <td>3</td>\n",
       "      <td>1</td>\n",
       "      <td>30</td>\n",
       "      <td>7</td>\n",
       "      <td>0</td>\n",
       "      <td>0</td>\n",
       "      <td>13</td>\n",
       "      <td>2</td>\n",
       "      <td>28</td>\n",
       "      <td>1</td>\n",
       "      <td>0.349</td>\n",
       "      <td>0.337</td>\n",
       "      <td>6</td>\n",
       "      <td>180cm/72kg</td>\n",
       "      <td>1992년 08월 11일</td>\n",
       "      <td>내야수(우투좌타)</td>\n",
       "      <td>광주대성초-광주동성중-광주동성고</td>\n",
       "      <td>10000만원</td>\n",
       "      <td>0.686</td>\n",
       "    </tr>\n",
       "    <tr>\n",
       "      <th>3</th>\n",
       "      <td>1</td>\n",
       "      <td>강경학</td>\n",
       "      <td>2015</td>\n",
       "      <td>한화</td>\n",
       "      <td>0.257</td>\n",
       "      <td>120</td>\n",
       "      <td>311</td>\n",
       "      <td>50</td>\n",
       "      <td>80</td>\n",
       "      <td>7</td>\n",
       "      <td>4</td>\n",
       "      <td>2</td>\n",
       "      <td>101</td>\n",
       "      <td>27</td>\n",
       "      <td>4</td>\n",
       "      <td>3</td>\n",
       "      <td>40</td>\n",
       "      <td>5</td>\n",
       "      <td>58</td>\n",
       "      <td>3</td>\n",
       "      <td>0.325</td>\n",
       "      <td>0.348</td>\n",
       "      <td>15</td>\n",
       "      <td>180cm/72kg</td>\n",
       "      <td>1992년 08월 11일</td>\n",
       "      <td>내야수(우투좌타)</td>\n",
       "      <td>광주대성초-광주동성중-광주동성고</td>\n",
       "      <td>10000만원</td>\n",
       "      <td>0.673</td>\n",
       "    </tr>\n",
       "    <tr>\n",
       "      <th>4</th>\n",
       "      <td>1</td>\n",
       "      <td>강경학</td>\n",
       "      <td>2016</td>\n",
       "      <td>한화</td>\n",
       "      <td>0.158</td>\n",
       "      <td>46</td>\n",
       "      <td>101</td>\n",
       "      <td>16</td>\n",
       "      <td>16</td>\n",
       "      <td>3</td>\n",
       "      <td>2</td>\n",
       "      <td>1</td>\n",
       "      <td>26</td>\n",
       "      <td>7</td>\n",
       "      <td>0</td>\n",
       "      <td>0</td>\n",
       "      <td>8</td>\n",
       "      <td>2</td>\n",
       "      <td>30</td>\n",
       "      <td>5</td>\n",
       "      <td>0.257</td>\n",
       "      <td>0.232</td>\n",
       "      <td>7</td>\n",
       "      <td>180cm/72kg</td>\n",
       "      <td>1992년 08월 11일</td>\n",
       "      <td>내야수(우투좌타)</td>\n",
       "      <td>광주대성초-광주동성중-광주동성고</td>\n",
       "      <td>10000만원</td>\n",
       "      <td>0.489</td>\n",
       "    </tr>\n",
       "  </tbody>\n",
       "</table>\n",
       "</div>"
      ],
      "text/plain": [
       "   batter_id batter_name  year team    avg    G   AB   R   H  2B  3B  HR   TB  \\\n",
       "0          0        가르시아  2018   LG  0.339   50  183  27  62   9   0   8   95   \n",
       "1          1         강경학  2011   한화  0.000    2    1   0   0   0   0   0    0   \n",
       "2          1         강경학  2014   한화  0.221   41   86  11  19   2   3   1   30   \n",
       "3          1         강경학  2015   한화  0.257  120  311  50  80   7   4   2  101   \n",
       "4          1         강경학  2016   한화  0.158   46  101  16  16   3   2   1   26   \n",
       "\n",
       "   RBI  SB  CS  BB  HBP  SO  GDP    SLG    OBP   E height/weight  \\\n",
       "0   34   5   0   9    8  25    3  0.519  0.383   9    177cm/93kg   \n",
       "1    0   0   0   0    0   1    0  0.000  0.000   1    180cm/72kg   \n",
       "2    7   0   0  13    2  28    1  0.349  0.337   6    180cm/72kg   \n",
       "3   27   4   3  40    5  58    3  0.325  0.348  15    180cm/72kg   \n",
       "4    7   0   0   8    2  30    5  0.257  0.232   7    180cm/72kg   \n",
       "\n",
       "       year_born   position                                  career  \\\n",
       "0  1985년 04월 12일  내야수(우투우타)  쿠바 Ciego de Avila Maximo Gomez Baez(대)   \n",
       "1  1992년 08월 11일  내야수(우투좌타)                       광주대성초-광주동성중-광주동성고   \n",
       "2  1992년 08월 11일  내야수(우투좌타)                       광주대성초-광주동성중-광주동성고   \n",
       "3  1992년 08월 11일  내야수(우투좌타)                       광주대성초-광주동성중-광주동성고   \n",
       "4  1992년 08월 11일  내야수(우투좌타)                       광주대성초-광주동성중-광주동성고   \n",
       "\n",
       "  starting_salary    OPS  \n",
       "0             NaN  0.902  \n",
       "1         10000만원  0.000  \n",
       "2         10000만원  0.686  \n",
       "3         10000만원  0.673  \n",
       "4         10000만원  0.489  "
      ]
     },
     "execution_count": 3,
     "metadata": {},
     "output_type": "execute_result"
    }
   ],
   "source": [
    "pd.set_option(\"display.max_columns\", 500) # 모든 컬럼을 보기 위해서 max 컬럼 개수 설정\n",
    "regular.head() # 상위 5개의 데이터 확인"
   ]
  },
  {
   "cell_type": "code",
   "execution_count": 4,
   "metadata": {},
   "outputs": [
    {
     "data": {
      "text/plain": [
       "<matplotlib.collections.PathCollection at 0x16b168f3c88>"
      ]
     },
     "execution_count": 4,
     "metadata": {},
     "output_type": "execute_result"
    },
    {
     "data": {
      "image/png": "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\n",
      "text/plain": [
       "<Figure size 432x288 with 1 Axes>"
      ]
     },
     "metadata": {
      "needs_background": "light"
     },
     "output_type": "display_data"
    }
   ],
   "source": [
    "plt.scatter(regular.loc[regular[\"batter_name\"]==\"박석민\",\"year\"],regular.loc[regular[\"batter_name\"]==\"박석민\",\"BB\"])"
   ]
  },
  {
   "cell_type": "code",
   "execution_count": 6,
   "metadata": {},
   "outputs": [
    {
     "data": {
      "text/plain": [
       "<matplotlib.axes._subplots.AxesSubplot at 0x16b1706a588>"
      ]
     },
     "execution_count": 6,
     "metadata": {},
     "output_type": "execute_result"
    },
    {
     "data": {
      "image/png": "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\n",
      "text/plain": [
       "<Figure size 432x288 with 1 Axes>"
      ]
     },
     "metadata": {
      "needs_background": "light"
     },
     "output_type": "display_data"
    }
   ],
   "source": [
    "regular.loc[regular[\"batter_name\"]==\"박석민\"].groupby(\"year\")[\"BB\"].mean().plot()"
   ]
  },
  {
   "cell_type": "code",
   "execution_count": 7,
   "metadata": {},
   "outputs": [
    {
     "data": {
      "text/plain": [
       "<matplotlib.axes._subplots.AxesSubplot at 0x16b170f47c8>"
      ]
     },
     "execution_count": 7,
     "metadata": {},
     "output_type": "execute_result"
    },
    {
     "data": {
      "image/png": "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\n",
      "text/plain": [
       "<Figure size 432x288 with 1 Axes>"
      ]
     },
     "metadata": {
      "needs_background": "light"
     },
     "output_type": "display_data"
    }
   ],
   "source": [
    "regular.loc[regular[\"batter_name\"]==\"이범호\"].groupby(\"year\")[\"BB\"].mean().plot()"
   ]
  },
  {
   "cell_type": "code",
   "execution_count": 8,
   "metadata": {},
   "outputs": [
    {
     "data": {
      "text/plain": [
       "<matplotlib.axes._subplots.AxesSubplot at 0x16b17152bc8>"
      ]
     },
     "execution_count": 8,
     "metadata": {},
     "output_type": "execute_result"
    },
    {
     "data": {
      "image/png": "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\n",
      "text/plain": [
       "<Figure size 432x288 with 1 Axes>"
      ]
     },
     "metadata": {
      "needs_background": "light"
     },
     "output_type": "display_data"
    }
   ],
   "source": [
    "regular.loc[regular[\"batter_name\"]==\"이범호\"].groupby(\"year\")[\"avg\"].mean().plot()"
   ]
  },
  {
   "cell_type": "markdown",
   "metadata": {},
   "source": [
    "- x축 : y-1년도의 선수들 지표\n",
    "- y축 : y년도의 선수들 지표"
   ]
  },
  {
   "cell_type": "code",
   "execution_count": 17,
   "metadata": {},
   "outputs": [
    {
     "name": "stdout",
     "output_type": "stream",
     "text": [
      "0.42406761190587683\n"
     ]
    },
    {
     "data": {
      "image/png": "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\n",
      "text/plain": [
       "<Figure size 432x288 with 1 Axes>"
      ]
     },
     "metadata": {
      "needs_background": "light"
     },
     "output_type": "display_data"
    }
   ],
   "source": [
    "var =\"avg\"\n",
    "x=[]\n",
    "y=[]\n",
    "regular1=regular.loc[regular[\"AB\"]>=100,] # 100번 이상 나와야 신뢰성이 있음\n",
    "\n",
    "for name in regular1[\"batter_name\"].unique():\n",
    "    a = regular1.loc[regular1[\"batter_name\"]==name,]\n",
    "    k=[]\n",
    "    for i in a[\"year\"].unique():\n",
    "        if (a[\"year\"]==i+1).sum()>0:\n",
    "            k.append(i)\n",
    "    for i in k:\n",
    "        x.append(a.loc[a[\"year\"]==i, var].iloc[0])\n",
    "        y.append(a.loc[a[\"year\"]==i+1, var].iloc[0])\n",
    "        \n",
    "plt.scatter(x,y)\n",
    "plt.title(var)\n",
    "plt.xlabel(\"y년도의 성적\")\n",
    "plt.ylabel(\"y+1년도의 성적\")\n",
    "\n",
    "print(pd.Series(x).corr(pd.Series(y))) # x,y간의 선형관계를 확인"
   ]
  },
  {
   "cell_type": "code",
   "execution_count": 13,
   "metadata": {},
   "outputs": [
    {
     "data": {
      "text/plain": [
       "Text(0, 0.5, 'y+1년도의 성적')"
      ]
     },
     "execution_count": 13,
     "metadata": {},
     "output_type": "execute_result"
    },
    {
     "data": {
      "image/png": "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\n",
      "text/plain": [
       "<Figure size 432x288 with 1 Axes>"
      ]
     },
     "metadata": {
      "needs_background": "light"
     },
     "output_type": "display_data"
    }
   ],
   "source": [
    "var =\"OPS\"\n",
    "x=[]\n",
    "y=[]\n",
    "regular1=regular.loc[regular[\"AB\"]>=100,] # 100번 이상 나와야 신뢰성이 있음\n",
    "\n",
    "for name in regular1[\"batter_name\"].unique():\n",
    "    a = regular1.loc[regular1[\"batter_name\"]==name,]\n",
    "    k=[]\n",
    "    for i in a[\"year\"].unique():\n",
    "        if (a[\"year\"]==i+1).sum()>0:\n",
    "            k.append(i)\n",
    "    for i in k:\n",
    "        x.append(a.loc[a[\"year\"]==i, var].iloc[0])\n",
    "        y.append(a.loc[a[\"year\"]==i+1, var].iloc[0])\n",
    "\n",
    "plt.scatter(x,y)\n",
    "plt.title(var)\n",
    "plt.xlabel(\"y년도의 성적\")\n",
    "plt.ylabel(\"y+1년도의 성적\")"
   ]
  },
  {
   "cell_type": "code",
   "execution_count": 16,
   "metadata": {},
   "outputs": [
    {
     "name": "stdout",
     "output_type": "stream",
     "text": [
      "0.6537531676446489\n"
     ]
    },
    {
     "data": {
      "image/png": "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\n",
      "text/plain": [
       "<Figure size 432x288 with 1 Axes>"
      ]
     },
     "metadata": {
      "needs_background": "light"
     },
     "output_type": "display_data"
    }
   ],
   "source": [
    "var =\"BB\"\n",
    "x=[]\n",
    "y=[]\n",
    "regular1=regular.loc[regular[\"AB\"]>=100,] # 100번 이상 나와야 신뢰성이 있음\n",
    "\n",
    "for name in regular1[\"batter_name\"].unique():\n",
    "    a = regular1.loc[regular1[\"batter_name\"]==name,]\n",
    "    k=[]\n",
    "    for i in a[\"year\"].unique():\n",
    "        if (a[\"year\"]==i+1).sum()>0:\n",
    "            k.append(i)\n",
    "    for i in k:\n",
    "        x.append(a.loc[a[\"year\"]==i, var].iloc[0])\n",
    "        y.append(a.loc[a[\"year\"]==i+1, var].iloc[0])\n",
    "\n",
    "plt.scatter(x,y)\n",
    "plt.title(var)\n",
    "plt.xlabel(\"y년도의 성적\")\n",
    "plt.ylabel(\"y+1년도의 성적\")\n",
    "\n",
    "print(pd.Series(x).corr(pd.Series(y))) # x,y간의 선형관계를 확인"
   ]
  },
  {
   "cell_type": "code",
   "execution_count": 18,
   "metadata": {},
   "outputs": [],
   "source": [
    "def get_self_corr(var):\n",
    "    x=[]\n",
    "    y=[]\n",
    "    regular1=regular.loc[regular[\"AB\"]>=100,] # 100번 이상 나와야 신뢰성이 있음\n",
    "\n",
    "    for name in regular1[\"batter_name\"].unique():\n",
    "        a = regular1.loc[regular1[\"batter_name\"]==name,]\n",
    "        k=[]\n",
    "        for i in a[\"year\"].unique():\n",
    "            if (a[\"year\"]==i+1).sum()>0:\n",
    "                k.append(i)\n",
    "        for i in k:\n",
    "            x.append(a.loc[a[\"year\"]==i, var].iloc[0])\n",
    "            y.append(a.loc[a[\"year\"]==i+1, var].iloc[0])\n",
    "\n",
    "    print(pd.Series(x).corr(pd.Series(y))) # x,y간의 선형관계를 확인"
   ]
  },
  {
   "cell_type": "code",
   "execution_count": 19,
   "metadata": {},
   "outputs": [
    {
     "name": "stdout",
     "output_type": "stream",
     "text": [
      "0.42406761190587683\n"
     ]
    }
   ],
   "source": [
    "get_self_corr(\"avg\")"
   ]
  },
  {
   "cell_type": "code",
   "execution_count": 21,
   "metadata": {},
   "outputs": [
    {
     "name": "stdout",
     "output_type": "stream",
     "text": [
      "0.5967835522092053\n"
     ]
    }
   ],
   "source": [
    "get_self_corr(\"OPS\")"
   ]
  },
  {
   "cell_type": "code",
   "execution_count": 25,
   "metadata": {},
   "outputs": [
    {
     "name": "stdout",
     "output_type": "stream",
     "text": [
      "1.0\n",
      "1.0\n",
      "0.42406761190587683\n",
      "0.2827945222858424\n",
      "0.5345220495165055\n",
      "0.6226214086043601\n",
      "0.5780431760833786\n",
      "0.5150624616599283\n",
      "0.44087969523833104\n",
      "0.7412597496536675\n",
      "0.6343944721859059\n",
      "0.651947415097796\n",
      "0.7260764196191684\n",
      "0.5732143724546752\n",
      "0.6537531676446489\n",
      "0.5627917256433479\n",
      "0.5664029028016614\n",
      "0.4902224105414654\n",
      "0.6139336781007896\n",
      "0.5452616730047514\n",
      "0.6225595423969393\n",
      "0.5967835522092053\n"
     ]
    }
   ],
   "source": [
    "agg={}\n",
    "for i in regular.columns:\n",
    "    try:\n",
    "        agg[i]=get_self_corr(i)\n",
    "    except:\n",
    "        pass\n",
    "    finally:\n",
    "        pass"
   ]
  },
  {
   "cell_type": "markdown",
   "metadata": {},
   "source": [
    "- 신뢰성이 있는 지표 : 홈런, 삼진, 볼넷, 장타율(전년도 이용)\n",
    "- 신뢰성이 낮은 지표 : 3루타, avg, 1루타(누적 이용)"
   ]
  },
  {
   "cell_type": "markdown",
   "metadata": {},
   "source": [
    "## 4-3. 변수 조작하기 심화\n",
    "- 신뢰성이 낮은 지표에 대해 전체 데이터를 사용\n",
    "    - total_1B/AB : 역대 1루타 합/역대 AB 합\n",
    "    - total_3B/AB : 역대 3루타 합/역대 AB 합\n",
    "    - total_avg : 역대avgxAB 합/역대 AB 합"
   ]
  },
  {
   "cell_type": "code",
   "execution_count": 29,
   "metadata": {},
   "outputs": [],
   "source": [
    "regular['1B']=regular['H']-regular['2B']-regular['3B']-regular['HR']"
   ]
  },
  {
   "cell_type": "code",
   "execution_count": 21,
   "metadata": {},
   "outputs": [
    {
     "data": {
      "text/plain": [
       "0.20100502512562815"
      ]
     },
     "execution_count": 21,
     "metadata": {},
     "output_type": "execute_result"
    }
   ],
   "source": [
    "regular.loc[(regular[\"batter_name\"]==\"강경학\")&(regular[\"year\"]<2016),\"1B\"].sum()/regular.loc[(regular[\"batter_name\"]==\"강경학\")&(regular[\"year\"]<2016),\"AB\"].sum()"
   ]
  },
  {
   "cell_type": "code",
   "execution_count": 12,
   "metadata": {},
   "outputs": [
    {
     "data": {
      "text/plain": [
       "0.022613065326633167"
      ]
     },
     "execution_count": 12,
     "metadata": {},
     "output_type": "execute_result"
    }
   ],
   "source": [
    "regular.loc[(regular[\"batter_name\"]==\"강경학\")&(regular[\"year\"]<2016),\"2B\"].sum()/regular.loc[(regular[\"batter_name\"]==\"강경학\")&(regular[\"year\"]<2016),\"AB\"].sum()"
   ]
  },
  {
   "cell_type": "code",
   "execution_count": 8,
   "metadata": {},
   "outputs": [
    {
     "data": {
      "text/plain": [
       "0.017587939698492462"
      ]
     },
     "execution_count": 8,
     "metadata": {},
     "output_type": "execute_result"
    }
   ],
   "source": [
    "regular.loc[(regular[\"batter_name\"]==\"강경학\")&(regular[\"year\"]<2016),\"3B\"].sum()/regular.loc[(regular[\"batter_name\"]==\"강경학\")&(regular[\"year\"]<2016),\"AB\"].sum()"
   ]
  },
  {
   "cell_type": "code",
   "execution_count": 11,
   "metadata": {},
   "outputs": [
    {
     "data": {
      "text/plain": [
       "1    0.000000\n",
       "2    0.047754\n",
       "3    0.200822\n",
       "dtype: float64"
      ]
     },
     "execution_count": 11,
     "metadata": {},
     "output_type": "execute_result"
    }
   ],
   "source": [
    "a=regular.loc[(regular[\"batter_name\"]==\"강경학\")&(regular[\"year\"]<2016)]\n",
    "(a[\"avg\"]*a[\"AB\"]/a[\"AB\"].sum())"
   ]
  },
  {
   "cell_type": "code",
   "execution_count": 30,
   "metadata": {},
   "outputs": [],
   "source": [
    "total_1BnAB=[]\n",
    "total_3BnAB=[]\n",
    "total_avg=[]\n",
    "\n",
    "for i in range(len(regular)):\n",
    "    a=regular.loc[(regular[\"batter_name\"]==regular[\"batter_name\"].iloc[i])&(regular[\"year\"]<regular[\"year\"].iloc[i])]\n",
    "    total_1BnAB.append(a[\"1B\"].sum()/a[\"AB\"].sum())\n",
    "    total_3BnAB.append(a[\"3B\"].sum()/a[\"AB\"].sum())\n",
    "    total_avg.append((a[\"avg\"]*a[\"AB\"]).sum()/a[\"AB\"].sum())"
   ]
  },
  {
   "cell_type": "code",
   "execution_count": 31,
   "metadata": {},
   "outputs": [],
   "source": [
    "regular[\"total_1BnAB\"]=total_1BnAB\n",
    "regular[\"total_3BnAB\"]=total_3BnAB\n",
    "regular['total_avg']=total_avg"
   ]
  },
  {
   "cell_type": "markdown",
   "metadata": {},
   "source": [
    "## 4.4. LightmGBM"
   ]
  },
  {
   "cell_type": "code",
   "execution_count": 38,
   "metadata": {},
   "outputs": [],
   "source": [
    "regular['1b_luck']=regular['1B']/(regular['AB']-regular['HR']-regular['SO'])\n",
    "regular['2b_luck']=regular['2B']/(regular['AB']-regular['HR']-regular['SO'])\n",
    "regular['3b_luck']=regular['3B']/(regular['AB']-regular['HR']-regular['SO'])"
   ]
  },
  {
   "cell_type": "code",
   "execution_count": 39,
   "metadata": {},
   "outputs": [
    {
     "name": "stdout",
     "output_type": "stream",
     "text": [
      "avg\n",
      "G\n",
      "AB\n",
      "R\n",
      "H\n",
      "2B\n",
      "3B\n",
      "HR\n",
      "TB\n",
      "RBI\n",
      "SB\n",
      "CS\n",
      "BB\n",
      "HBP\n",
      "SO\n",
      "GDP\n",
      "SLG\n",
      "OBP\n",
      "E\n",
      "1b_luck\n",
      "2b_luck\n",
      "3b_luck\n"
     ]
    }
   ],
   "source": [
    "for j in ['avg', 'G', 'AB', 'R', 'H','2B', '3B', 'HR', 'TB', 'RBI', 'SB', 'CS', 'BB', 'HBP', 'SO', 'GDP','SLG', 'OBP', 'E','1b_luck','2b_luck','3b_luck']:\n",
    "    lag_1_avg=[]\n",
    "    for i in range(len(regular)): \n",
    "        if len(regular.loc[(regular['batter_name']==regular['batter_name'].iloc[i])&(regular['year']==regular['year'].iloc[i]-1)][j])==0:\n",
    "            lag_1_avg.append(np.nan)\n",
    "        else:\n",
    "            lag_1_avg.append(regular.loc[(regular['batter_name']==regular['batter_name'].iloc[i])&(regular['year']==regular['year'].iloc[i]-1)][j].iloc[0])\n",
    "    \n",
    "    regular['lag_1_'+j]=lag_1_avg\n",
    "    print(j)"
   ]
  },
  {
   "cell_type": "code",
   "execution_count": 32,
   "metadata": {},
   "outputs": [],
   "source": [
    "agg={}\n",
    "for i in regular.columns:\n",
    "    agg[i]=[]\n",
    "    \n",
    "# 2018년에 활동한 각 batter name 에 대한 2019년의 값을 담은 dictionary\n",
    "# 예측을 위한 dictionary\n",
    "for i in regular.loc[regular[\"year\"]==2018,\"batter_name\"].unique():\n",
    "    for j in regular.columns:\n",
    "        if j in [\"batter_id\",\"batter_name\",\"height/weight\",\"year_bone\",\"position\", \"starting_salary\"]:\n",
    "            agg[j].append(regular.loc[regular[\"batter_name\"]==i,j].iloc[0])\n",
    "        elif j==\"year\":\n",
    "            agg[j].append(2019)\n",
    "        else:\n",
    "            agg[j].append(0)"
   ]
  },
  {
   "cell_type": "code",
   "execution_count": 33,
   "metadata": {},
   "outputs": [
    {
      
     },
     "execution_count": 33,
     "metadata": {},
     "output_type": "execute_result"
    }
   ],
   "source": [
    "agg"
   ]
  },
  {
   "cell_type": "code",
   "execution_count": 34,
   "metadata": {},
   "outputs": [],
   "source": [
    "# 변수 삭제\n",
    "del regular[\"team\"]\n",
    "del regular[\"career\"]"
   ]
  },
  {
   "cell_type": "code",
   "execution_count": 35,
   "metadata": {},
   "outputs": [
    {
     "data": {
      "text/html": [
       "<div>\n",
       "<style scoped>\n",
       "    .dataframe tbody tr th:only-of-type {\n",
       "        vertical-align: middle;\n",
       "    }\n",
       "\n",
       "    .dataframe tbody tr th {\n",
       "        vertical-align: top;\n",
       "    }\n",
       "\n",
       "    .dataframe thead th {\n",
       "        text-align: right;\n",
       "    }\n",
       "</style>\n",
       "<table border=\"1\" class=\"dataframe\">\n",
       "  <thead>\n",
       "    <tr style=\"text-align: right;\">\n",
       "      <th></th>\n",
       "      <th>batter_id</th>\n",
       "      <th>batter_name</th>\n",
       "      <th>year</th>\n",
       "      <th>team</th>\n",
       "      <th>avg</th>\n",
       "      <th>G</th>\n",
       "      <th>AB</th>\n",
       "      <th>R</th>\n",
       "      <th>H</th>\n",
       "      <th>2B</th>\n",
       "      <th>...</th>\n",
       "      <th>height/weight</th>\n",
       "      <th>year_born</th>\n",
       "      <th>position</th>\n",
       "      <th>career</th>\n",
       "      <th>starting_salary</th>\n",
       "      <th>OPS</th>\n",
       "      <th>1B</th>\n",
       "      <th>total_1BnAB</th>\n",
       "      <th>total_3BnAB</th>\n",
       "      <th>total_avg</th>\n",
       "    </tr>\n",
       "  </thead>\n",
       "  <tbody>\n",
       "    <tr>\n",
       "      <th>0</th>\n",
       "      <td>0</td>\n",
       "      <td>가르시아</td>\n",
       "      <td>2019</td>\n",
       "      <td>0</td>\n",
       "      <td>0</td>\n",
       "      <td>0</td>\n",
       "      <td>0</td>\n",
       "      <td>0</td>\n",
       "      <td>0</td>\n",
       "      <td>0</td>\n",
       "      <td>...</td>\n",
       "      <td>177cm/93kg</td>\n",
       "      <td>0</td>\n",
       "      <td>내야수(우투우타)</td>\n",
       "      <td>0</td>\n",
       "      <td>NaN</td>\n",
       "      <td>0</td>\n",
       "      <td>0</td>\n",
       "      <td>0</td>\n",
       "      <td>0</td>\n",
       "      <td>0</td>\n",
       "    </tr>\n",
       "    <tr>\n",
       "      <th>1</th>\n",
       "      <td>1</td>\n",
       "      <td>강경학</td>\n",
       "      <td>2019</td>\n",
       "      <td>0</td>\n",
       "      <td>0</td>\n",
       "      <td>0</td>\n",
       "      <td>0</td>\n",
       "      <td>0</td>\n",
       "      <td>0</td>\n",
       "      <td>0</td>\n",
       "      <td>...</td>\n",
       "      <td>180cm/72kg</td>\n",
       "      <td>0</td>\n",
       "      <td>내야수(우투좌타)</td>\n",
       "      <td>0</td>\n",
       "      <td>10000만원</td>\n",
       "      <td>0</td>\n",
       "      <td>0</td>\n",
       "      <td>0</td>\n",
       "      <td>0</td>\n",
       "      <td>0</td>\n",
       "    </tr>\n",
       "    <tr>\n",
       "      <th>2</th>\n",
       "      <td>2</td>\n",
       "      <td>강구성</td>\n",
       "      <td>2019</td>\n",
       "      <td>0</td>\n",
       "      <td>0</td>\n",
       "      <td>0</td>\n",
       "      <td>0</td>\n",
       "      <td>0</td>\n",
       "      <td>0</td>\n",
       "      <td>0</td>\n",
       "      <td>...</td>\n",
       "      <td>180cm/82kg</td>\n",
       "      <td>0</td>\n",
       "      <td>외야수(우투좌타)</td>\n",
       "      <td>0</td>\n",
       "      <td>9000만원</td>\n",
       "      <td>0</td>\n",
       "      <td>0</td>\n",
       "      <td>0</td>\n",
       "      <td>0</td>\n",
       "      <td>0</td>\n",
       "    </tr>\n",
       "    <tr>\n",
       "      <th>3</th>\n",
       "      <td>3</td>\n",
       "      <td>강민국</td>\n",
       "      <td>2019</td>\n",
       "      <td>0</td>\n",
       "      <td>0</td>\n",
       "      <td>0</td>\n",
       "      <td>0</td>\n",
       "      <td>0</td>\n",
       "      <td>0</td>\n",
       "      <td>0</td>\n",
       "      <td>...</td>\n",
       "      <td>176cm/80kg</td>\n",
       "      <td>0</td>\n",
       "      <td>내야수(우투우타)</td>\n",
       "      <td>0</td>\n",
       "      <td>20000만원</td>\n",
       "      <td>0</td>\n",
       "      <td>0</td>\n",
       "      <td>0</td>\n",
       "      <td>0</td>\n",
       "      <td>0</td>\n",
       "    </tr>\n",
       "    <tr>\n",
       "      <th>4</th>\n",
       "      <td>4</td>\n",
       "      <td>강민호</td>\n",
       "      <td>2019</td>\n",
       "      <td>0</td>\n",
       "      <td>0</td>\n",
       "      <td>0</td>\n",
       "      <td>0</td>\n",
       "      <td>0</td>\n",
       "      <td>0</td>\n",
       "      <td>0</td>\n",
       "      <td>...</td>\n",
       "      <td>185cm/100kg</td>\n",
       "      <td>0</td>\n",
       "      <td>포수(우투우타)</td>\n",
       "      <td>0</td>\n",
       "      <td>9000만원</td>\n",
       "      <td>0</td>\n",
       "      <td>0</td>\n",
       "      <td>0</td>\n",
       "      <td>0</td>\n",
       "      <td>0</td>\n",
       "    </tr>\n",
       "    <tr>\n",
       "      <th>...</th>\n",
       "      <td>...</td>\n",
       "      <td>...</td>\n",
       "      <td>...</td>\n",
       "      <td>...</td>\n",
       "      <td>...</td>\n",
       "      <td>...</td>\n",
       "      <td>...</td>\n",
       "      <td>...</td>\n",
       "      <td>...</td>\n",
       "      <td>...</td>\n",
       "      <td>...</td>\n",
       "      <td>...</td>\n",
       "      <td>...</td>\n",
       "      <td>...</td>\n",
       "      <td>...</td>\n",
       "      <td>...</td>\n",
       "      <td>...</td>\n",
       "      <td>...</td>\n",
       "      <td>...</td>\n",
       "      <td>...</td>\n",
       "      <td>...</td>\n",
       "    </tr>\n",
       "    <tr>\n",
       "      <th>222</th>\n",
       "      <td>337</td>\n",
       "      <td>홍재호</td>\n",
       "      <td>2019</td>\n",
       "      <td>0</td>\n",
       "      <td>0</td>\n",
       "      <td>0</td>\n",
       "      <td>0</td>\n",
       "      <td>0</td>\n",
       "      <td>0</td>\n",
       "      <td>0</td>\n",
       "      <td>...</td>\n",
       "      <td>180cm/79kg</td>\n",
       "      <td>0</td>\n",
       "      <td>내야수(우투우타)</td>\n",
       "      <td>0</td>\n",
       "      <td>4000만원</td>\n",
       "      <td>0</td>\n",
       "      <td>0</td>\n",
       "      <td>0</td>\n",
       "      <td>0</td>\n",
       "      <td>0</td>\n",
       "    </tr>\n",
       "    <tr>\n",
       "      <th>223</th>\n",
       "      <td>338</td>\n",
       "      <td>홍창기</td>\n",
       "      <td>2019</td>\n",
       "      <td>0</td>\n",
       "      <td>0</td>\n",
       "      <td>0</td>\n",
       "      <td>0</td>\n",
       "      <td>0</td>\n",
       "      <td>0</td>\n",
       "      <td>0</td>\n",
       "      <td>...</td>\n",
       "      <td>189cm/94kg</td>\n",
       "      <td>0</td>\n",
       "      <td>외야수(우투좌타)</td>\n",
       "      <td>0</td>\n",
       "      <td>8000만원</td>\n",
       "      <td>0</td>\n",
       "      <td>0</td>\n",
       "      <td>0</td>\n",
       "      <td>0</td>\n",
       "      <td>0</td>\n",
       "    </tr>\n",
       "    <tr>\n",
       "      <th>224</th>\n",
       "      <td>341</td>\n",
       "      <td>황윤호</td>\n",
       "      <td>2019</td>\n",
       "      <td>0</td>\n",
       "      <td>0</td>\n",
       "      <td>0</td>\n",
       "      <td>0</td>\n",
       "      <td>0</td>\n",
       "      <td>0</td>\n",
       "      <td>0</td>\n",
       "      <td>...</td>\n",
       "      <td>177cm/78kg</td>\n",
       "      <td>0</td>\n",
       "      <td>내야수(우투우타)</td>\n",
       "      <td>0</td>\n",
       "      <td>3000만원</td>\n",
       "      <td>0</td>\n",
       "      <td>0</td>\n",
       "      <td>0</td>\n",
       "      <td>0</td>\n",
       "      <td>0</td>\n",
       "    </tr>\n",
       "    <tr>\n",
       "      <th>225</th>\n",
       "      <td>342</td>\n",
       "      <td>황재균</td>\n",
       "      <td>2019</td>\n",
       "      <td>0</td>\n",
       "      <td>0</td>\n",
       "      <td>0</td>\n",
       "      <td>0</td>\n",
       "      <td>0</td>\n",
       "      <td>0</td>\n",
       "      <td>0</td>\n",
       "      <td>...</td>\n",
       "      <td>183cm/96kg</td>\n",
       "      <td>0</td>\n",
       "      <td>내야수(우투우타)</td>\n",
       "      <td>0</td>\n",
       "      <td>6000만원</td>\n",
       "      <td>0</td>\n",
       "      <td>0</td>\n",
       "      <td>0</td>\n",
       "      <td>0</td>\n",
       "      <td>0</td>\n",
       "    </tr>\n",
       "    <tr>\n",
       "      <th>226</th>\n",
       "      <td>344</td>\n",
       "      <td>황진수</td>\n",
       "      <td>2019</td>\n",
       "      <td>0</td>\n",
       "      <td>0</td>\n",
       "      <td>0</td>\n",
       "      <td>0</td>\n",
       "      <td>0</td>\n",
       "      <td>0</td>\n",
       "      <td>0</td>\n",
       "      <td>...</td>\n",
       "      <td>181cm/82kg</td>\n",
       "      <td>0</td>\n",
       "      <td>내야수(우투양타)</td>\n",
       "      <td>0</td>\n",
       "      <td>4000만원</td>\n",
       "      <td>0</td>\n",
       "      <td>0</td>\n",
       "      <td>0</td>\n",
       "      <td>0</td>\n",
       "      <td>0</td>\n",
       "    </tr>\n",
       "  </tbody>\n",
       "</table>\n",
       "<p>227 rows × 33 columns</p>\n",
       "</div>"
      ],
      "text/plain": [
       "     batter_id batter_name  year  team  avg  G  AB  R  H  2B  ...  \\\n",
       "0            0        가르시아  2019     0    0  0   0  0  0   0  ...   \n",
       "1            1         강경학  2019     0    0  0   0  0  0   0  ...   \n",
       "2            2         강구성  2019     0    0  0   0  0  0   0  ...   \n",
       "3            3         강민국  2019     0    0  0   0  0  0   0  ...   \n",
       "4            4         강민호  2019     0    0  0   0  0  0   0  ...   \n",
       "..         ...         ...   ...   ...  ... ..  .. .. ..  ..  ...   \n",
       "222        337         홍재호  2019     0    0  0   0  0  0   0  ...   \n",
       "223        338         홍창기  2019     0    0  0   0  0  0   0  ...   \n",
       "224        341         황윤호  2019     0    0  0   0  0  0   0  ...   \n",
       "225        342         황재균  2019     0    0  0   0  0  0   0  ...   \n",
       "226        344         황진수  2019     0    0  0   0  0  0   0  ...   \n",
       "\n",
       "     height/weight  year_born   position  career  starting_salary  OPS  1B  \\\n",
       "0       177cm/93kg          0  내야수(우투우타)       0              NaN    0   0   \n",
       "1       180cm/72kg          0  내야수(우투좌타)       0          10000만원    0   0   \n",
       "2       180cm/82kg          0  외야수(우투좌타)       0           9000만원    0   0   \n",
       "3       176cm/80kg          0  내야수(우투우타)       0          20000만원    0   0   \n",
       "4      185cm/100kg          0   포수(우투우타)       0           9000만원    0   0   \n",
       "..             ...        ...        ...     ...              ...  ...  ..   \n",
       "222     180cm/79kg          0  내야수(우투우타)       0           4000만원    0   0   \n",
       "223     189cm/94kg          0  외야수(우투좌타)       0           8000만원    0   0   \n",
       "224     177cm/78kg          0  내야수(우투우타)       0           3000만원    0   0   \n",
       "225     183cm/96kg          0  내야수(우투우타)       0           6000만원    0   0   \n",
       "226     181cm/82kg          0  내야수(우투양타)       0           4000만원    0   0   \n",
       "\n",
       "     total_1BnAB  total_3BnAB  total_avg  \n",
       "0              0            0          0  \n",
       "1              0            0          0  \n",
       "2              0            0          0  \n",
       "3              0            0          0  \n",
       "4              0            0          0  \n",
       "..           ...          ...        ...  \n",
       "222            0            0          0  \n",
       "223            0            0          0  \n",
       "224            0            0          0  \n",
       "225            0            0          0  \n",
       "226            0            0          0  \n",
       "\n",
       "[227 rows x 33 columns]"
      ]
     },
     "execution_count": 35,
     "metadata": {},
     "output_type": "execute_result"
    }
   ],
   "source": [
    "pd.DataFrame(agg)"
   ]
  },
  {
   "cell_type": "code",
   "execution_count": 36,
   "metadata": {},
   "outputs": [],
   "source": [
    "regular = pd.concat([regular,pd.DataFrame(agg)])"
   ]
  },
  {
   "cell_type": "code",
   "execution_count": 37,
   "metadata": {},
   "outputs": [
    {
     "data": {
      "text/plain": [
       "2019    227\n",
       "2018    227\n",
       "2017    217\n",
       "2016    213\n",
       "2015    207\n",
       "2013    194\n",
       "2014    186\n",
       "2012    174\n",
       "2011    151\n",
       "2010    130\n",
       "2009    124\n",
       "2008    115\n",
       "2007     98\n",
       "2006     85\n",
       "2005     73\n",
       "2004     68\n",
       "2003     54\n",
       "2002     43\n",
       "2001     32\n",
       "2000     20\n",
       "1999     14\n",
       "1998     10\n",
       "1997      8\n",
       "1996      7\n",
       "1994      2\n",
       "1995      1\n",
       "1993      1\n",
       "Name: year, dtype: int64"
      ]
     },
     "execution_count": 37,
     "metadata": {},
     "output_type": "execute_result"
    }
   ],
   "source": [
    "regular.year.value_counts()"
   ]
  },
  {
   "cell_type": "code",
   "execution_count": 40,
   "metadata": {},
   "outputs": [],
   "source": [
    "# column명 중에서 lag 혹은 total 이 포함되어 있는 column명 추출\n",
    "input_var = [x for x in regular.columns if (\"lag_\" in x)|(\"total_\" in x)]"
   ]
  },
  {
   "cell_type": "code",
   "execution_count": 43,
   "metadata": {},
   "outputs": [],
   "source": [
    "train = regular.loc[regular[\"year\"]<=2018]\n",
    "train=train.loc[-train[\"OPS\"].isnull()] # OPS 가 null 값인 것 제외\n",
    "\n",
    "test = regular.loc[regular[\"year\"]==2019]"
   ]
  },
  {
   "cell_type": "code",
   "execution_count": 44,
   "metadata": {},
   "outputs": [],
   "source": [
    "X = train[input_var]\n",
    "y = train[\"OPS\"]"
   ]
  },
  {
   "cell_type": "markdown",
   "metadata": {},
   "source": [
    "- 랜덤포레스트와 lightlgbm의 차이점\n",
    "    - 랜덤포레스트는 null 값이 존재하면 안됨\n",
    "    - lightgbm의 경우 null 값이 존재해도 괜찮음"
   ]
  },
  {
   "cell_type": "code",
   "execution_count": 47,
   "metadata": {},
   "outputs": [],
   "source": []
  },
  {
   "cell_type": "code",
   "execution_count": null,
   "metadata": {},
   "outputs": [],
   "source": []
  },
  {
   "cell_type": "code",
   "execution_count": 49,
   "metadata": {},
   "outputs": [
    {
     "name": "stdout",
     "output_type": "stream",
     "text": [
      "Training until validation scores don't improve for 200 rounds\n",
      "[100]\ttraining's rmse: 0.106346\n",
      "[200]\ttraining's rmse: 0.0993263\n",
      "[300]\ttraining's rmse: 0.0950997\n",
      "[400]\ttraining's rmse: 0.0915216\n",
      "[500]\ttraining's rmse: 0.0883923\n",
      "[600]\ttraining's rmse: 0.0859108\n",
      "[700]\ttraining's rmse: 0.0838102\n",
      "[800]\ttraining's rmse: 0.081882\n",
      "Did not meet early stopping. Best iteration is:\n",
      "[800]\ttraining's rmse: 0.081882\n"
     ]
    }
   ],
   "source": [
    "import lightgbm as lgb\n",
    "\n",
    "# 파라미터값 설정\n",
    "param = {\"num_leaves\":100,\n",
    "        \"min_data_in_leaf\":30,\n",
    "        \"objective\":\"regression\", # 회귀모델\n",
    "        \"max_depth\":6,\n",
    "         \"learning_rate\":0.02,\n",
    "         \"feature_fraction\":0.7522,\n",
    "         \"bagging_freq\":1,\n",
    "         \"bagging_fraction\":0.7083,\n",
    "         \"bagging_seed\":11,\n",
    "         \"metric\":\"rmse\", # 평가 metric을 rmse로 설정\n",
    "         \"randon_state\":133\n",
    "        }\n",
    "\n",
    "# Lightgbm에 적합한 dataset 형태\n",
    "# weight RGBM을 적용하기 위해서는 weight 파라미터 값을 주면 됨\n",
    "# verbose = 100번의 update마다 출력\n",
    "# early stopping round : 400번 진행했을 때 rmse가 변하지 않으면 stop\n",
    "trn_data = lgb.Dataset(train[input_var], label=train[\"OPS\"],weight=train[\"AB\"])\n",
    "num_round = 800  # 업데이트 과정을 800번 진행하겠다.\n",
    "clf = lgb.train(param, trn_data, num_round, valid_sets = [trn_data],\n",
    "               verbose_eval=100, early_stopping_rounds = 200)\n",
    "\n",
    "# 예측\n",
    "# num_iteration : clf에서 best iteration이었던 모델을 사용하겠다.\n",
    "prediction = clf.predict(test[input_var], num_iteration=clf.best_iteration)"
   ]
  },
  {
   "cell_type": "code",
   "execution_count": 52,
   "metadata": {},
   "outputs": [
    {
     "data": {
      "text/plain": [
       "array([0.62080634, 0.66910483, 0.66522459, 0.52037279, 0.73833842])"
      ]
     },
     "execution_count": 52,
     "metadata": {},
     "output_type": "execute_result"
    }
   ],
   "source": [
    "prediction[:5]"
   ]
  },
  {
   "cell_type": "code",
   "execution_count": 50,
   "metadata": {},
   "outputs": [
    {
     "data": {
      "text/html": [
       "<div>\n",
       "<style scoped>\n",
       "    .dataframe tbody tr th:only-of-type {\n",
       "        vertical-align: middle;\n",
       "    }\n",
       "\n",
       "    .dataframe tbody tr th {\n",
       "        vertical-align: top;\n",
       "    }\n",
       "\n",
       "    .dataframe thead th {\n",
       "        text-align: right;\n",
       "    }\n",
       "</style>\n",
       "<table border=\"1\" class=\"dataframe\">\n",
       "  <thead>\n",
       "    <tr style=\"text-align: right;\">\n",
       "      <th></th>\n",
       "      <th>total_1BnAB</th>\n",
       "      <th>total_3BnAB</th>\n",
       "      <th>total_avg</th>\n",
       "      <th>lag_1_avg</th>\n",
       "      <th>lag_1_G</th>\n",
       "      <th>lag_1_AB</th>\n",
       "      <th>lag_1_R</th>\n",
       "      <th>lag_1_H</th>\n",
       "      <th>lag_1_2B</th>\n",
       "      <th>lag_1_3B</th>\n",
       "      <th>...</th>\n",
       "      <th>lag_1_BB</th>\n",
       "      <th>lag_1_HBP</th>\n",
       "      <th>lag_1_SO</th>\n",
       "      <th>lag_1_GDP</th>\n",
       "      <th>lag_1_SLG</th>\n",
       "      <th>lag_1_OBP</th>\n",
       "      <th>lag_1_E</th>\n",
       "      <th>lag_1_1b_luck</th>\n",
       "      <th>lag_1_2b_luck</th>\n",
       "      <th>lag_1_3b_luck</th>\n",
       "    </tr>\n",
       "  </thead>\n",
       "  <tbody>\n",
       "    <tr>\n",
       "      <th>0</th>\n",
       "      <td>0.0</td>\n",
       "      <td>0.0</td>\n",
       "      <td>0.0</td>\n",
       "      <td>0.339</td>\n",
       "      <td>50.0</td>\n",
       "      <td>183.0</td>\n",
       "      <td>27.0</td>\n",
       "      <td>62.0</td>\n",
       "      <td>9.0</td>\n",
       "      <td>0.0</td>\n",
       "      <td>...</td>\n",
       "      <td>9.0</td>\n",
       "      <td>8.0</td>\n",
       "      <td>25.0</td>\n",
       "      <td>3.0</td>\n",
       "      <td>0.519</td>\n",
       "      <td>0.383</td>\n",
       "      <td>9.0</td>\n",
       "      <td>0.300000</td>\n",
       "      <td>0.060000</td>\n",
       "      <td>0.000000</td>\n",
       "    </tr>\n",
       "    <tr>\n",
       "      <th>1</th>\n",
       "      <td>0.0</td>\n",
       "      <td>0.0</td>\n",
       "      <td>0.0</td>\n",
       "      <td>0.278</td>\n",
       "      <td>77.0</td>\n",
       "      <td>245.0</td>\n",
       "      <td>42.0</td>\n",
       "      <td>68.0</td>\n",
       "      <td>11.0</td>\n",
       "      <td>1.0</td>\n",
       "      <td>...</td>\n",
       "      <td>38.0</td>\n",
       "      <td>4.0</td>\n",
       "      <td>59.0</td>\n",
       "      <td>7.0</td>\n",
       "      <td>0.392</td>\n",
       "      <td>0.382</td>\n",
       "      <td>2.0</td>\n",
       "      <td>0.281768</td>\n",
       "      <td>0.060773</td>\n",
       "      <td>0.005525</td>\n",
       "    </tr>\n",
       "    <tr>\n",
       "      <th>2</th>\n",
       "      <td>0.0</td>\n",
       "      <td>0.0</td>\n",
       "      <td>0.0</td>\n",
       "      <td>0.200</td>\n",
       "      <td>4.0</td>\n",
       "      <td>5.0</td>\n",
       "      <td>0.0</td>\n",
       "      <td>1.0</td>\n",
       "      <td>1.0</td>\n",
       "      <td>0.0</td>\n",
       "      <td>...</td>\n",
       "      <td>0.0</td>\n",
       "      <td>0.0</td>\n",
       "      <td>3.0</td>\n",
       "      <td>0.0</td>\n",
       "      <td>0.400</td>\n",
       "      <td>0.200</td>\n",
       "      <td>0.0</td>\n",
       "      <td>0.000000</td>\n",
       "      <td>0.500000</td>\n",
       "      <td>0.000000</td>\n",
       "    </tr>\n",
       "    <tr>\n",
       "      <th>3</th>\n",
       "      <td>0.0</td>\n",
       "      <td>0.0</td>\n",
       "      <td>0.0</td>\n",
       "      <td>0.250</td>\n",
       "      <td>6.0</td>\n",
       "      <td>4.0</td>\n",
       "      <td>0.0</td>\n",
       "      <td>1.0</td>\n",
       "      <td>0.0</td>\n",
       "      <td>0.0</td>\n",
       "      <td>...</td>\n",
       "      <td>0.0</td>\n",
       "      <td>0.0</td>\n",
       "      <td>0.0</td>\n",
       "      <td>0.0</td>\n",
       "      <td>0.250</td>\n",
       "      <td>0.250</td>\n",
       "      <td>0.0</td>\n",
       "      <td>0.250000</td>\n",
       "      <td>0.000000</td>\n",
       "      <td>0.000000</td>\n",
       "    </tr>\n",
       "    <tr>\n",
       "      <th>4</th>\n",
       "      <td>0.0</td>\n",
       "      <td>0.0</td>\n",
       "      <td>0.0</td>\n",
       "      <td>0.269</td>\n",
       "      <td>129.0</td>\n",
       "      <td>427.0</td>\n",
       "      <td>46.0</td>\n",
       "      <td>115.0</td>\n",
       "      <td>14.0</td>\n",
       "      <td>0.0</td>\n",
       "      <td>...</td>\n",
       "      <td>29.0</td>\n",
       "      <td>14.0</td>\n",
       "      <td>96.0</td>\n",
       "      <td>11.0</td>\n",
       "      <td>0.457</td>\n",
       "      <td>0.331</td>\n",
       "      <td>8.0</td>\n",
       "      <td>0.255663</td>\n",
       "      <td>0.045307</td>\n",
       "      <td>0.000000</td>\n",
       "    </tr>\n",
       "  </tbody>\n",
       "</table>\n",
       "<p>5 rows × 25 columns</p>\n",
       "</div>"
      ],
      "text/plain": [
       "   total_1BnAB  total_3BnAB  total_avg  lag_1_avg  lag_1_G  lag_1_AB  lag_1_R  \\\n",
       "0          0.0          0.0        0.0      0.339     50.0     183.0     27.0   \n",
       "1          0.0          0.0        0.0      0.278     77.0     245.0     42.0   \n",
       "2          0.0          0.0        0.0      0.200      4.0       5.0      0.0   \n",
       "3          0.0          0.0        0.0      0.250      6.0       4.0      0.0   \n",
       "4          0.0          0.0        0.0      0.269    129.0     427.0     46.0   \n",
       "\n",
       "   lag_1_H  lag_1_2B  lag_1_3B  ...  lag_1_BB  lag_1_HBP  lag_1_SO  lag_1_GDP  \\\n",
       "0     62.0       9.0       0.0  ...       9.0        8.0      25.0        3.0   \n",
       "1     68.0      11.0       1.0  ...      38.0        4.0      59.0        7.0   \n",
       "2      1.0       1.0       0.0  ...       0.0        0.0       3.0        0.0   \n",
       "3      1.0       0.0       0.0  ...       0.0        0.0       0.0        0.0   \n",
       "4    115.0      14.0       0.0  ...      29.0       14.0      96.0       11.0   \n",
       "\n",
       "   lag_1_SLG  lag_1_OBP  lag_1_E  lag_1_1b_luck  lag_1_2b_luck  lag_1_3b_luck  \n",
       "0      0.519      0.383      9.0       0.300000       0.060000       0.000000  \n",
       "1      0.392      0.382      2.0       0.281768       0.060773       0.005525  \n",
       "2      0.400      0.200      0.0       0.000000       0.500000       0.000000  \n",
       "3      0.250      0.250      0.0       0.250000       0.000000       0.000000  \n",
       "4      0.457      0.331      8.0       0.255663       0.045307       0.000000  \n",
       "\n",
       "[5 rows x 25 columns]"
      ]
     },
     "execution_count": 50,
     "metadata": {},
     "output_type": "execute_result"
    }
   ],
   "source": [
    "test[input_var].head()"
   ]
  },
  {
   "cell_type": "code",
   "execution_count": 54,
   "metadata": {},
   "outputs": [],
   "source": [
    "sub=test[[\"batter_id\",\"batter_name\"]]"
   ]
  },
  {
   "cell_type": "code",
   "execution_count": 55,
   "metadata": {},
   "outputs": [],
   "source": [
    "sub[\"ops\"]=prediction"
   ]
  },
  {
   "cell_type": "code",
   "execution_count": 56,
   "metadata": {},
   "outputs": [],
   "source": [
    "sub.to_csv(\"./submission.csv\", index=False)"
   ]
  }
 ],
 "metadata": {
  "kernelspec": {
   "display_name": "Python 3",
   "language": "python",
   "name": "python3"
  },
  "language_info": {
   "codemirror_mode": {
    "name": "ipython",
    "version": 3
   },
   "file_extension": ".py",
   "mimetype": "text/x-python",
   "name": "python",
   "nbconvert_exporter": "python",
   "pygments_lexer": "ipython3",
   "version": "3.8.3"
  }
 },
 "nbformat": 4,
 "nbformat_minor": 4
}
