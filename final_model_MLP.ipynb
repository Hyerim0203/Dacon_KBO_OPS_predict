{
 "cells": [
  {
   "cell_type": "markdown",
   "metadata": {},
   "source": [
    "# MLP 모델링 및 feature engineering"
   ]
  },
  {
   "cell_type": "code",
   "execution_count": 325,
   "metadata": {},
   "outputs": [],
   "source": [
    "import pandas as pd\n",
    "import numpy as np\n",
    "import matplotlib.pyplot as plt\n",
    "import seaborn as sns\n",
    "%matplotlib inline\n",
    "\n",
    "from matplotlib import font_manager, rc\n",
    "import matplotlib as mpl\n",
    "font_path = \"C:\\\\Users\\\\이혜림\\\\Desktop\\\\Bita5/malgun.ttf\" \n",
    "font_name = font_manager.FontProperties(fname=font_path).get_name()\n",
    "rc(\"font\",family=font_name)\n",
    "mpl.rcParams[\"axes.unicode_minus\"]=False\n",
    "\n",
    "#경고 무시\n",
    "import warnings"
   ]
  },
  {
   "cell_type": "markdown",
   "metadata": {},
   "source": [
    "# 각 테스트 결과 Case3이 가장 좋음"
   ]
  },
  {
   "cell_type": "markdown",
   "metadata": {},
   "source": [
    "# Case3\n",
    "1. SB 변수 제거\n",
    "2. 운 관련 지표 추가\n",
    "3. age 변수 추가 X\n",
    "4. 포지션 칼럼 추가\n",
    "5. 좌타/우타/양타 칼럼 추가"
   ]
  },
  {
   "cell_type": "code",
   "execution_count": 1804,
   "metadata": {},
   "outputs": [],
   "source": [
    "regular = pd.read_csv(\"../Regular_Season_Batter.csv\")\n",
    "\n",
    "# 이상치 제거\n",
    "regular = regular.drop([480,748,1459,1676,1677,1936,1937], axis=0)\n",
    "# 신뢰성있는 데이터만 반영\n",
    "regular = regular.loc[regular[\"AB\"]>10]"
   ]
  },
  {
   "cell_type": "markdown",
   "metadata": {},
   "source": [
    "## 운 관련 지표 추가"
   ]
  },
  {
   "cell_type": "code",
   "execution_count": 1805,
   "metadata": {},
   "outputs": [],
   "source": [
    "regular['1B']=regular['H']-regular['2B']-regular['3B']-regular['HR']\n",
    "\n",
    "regular['1b_luck']=regular['1B']/(regular['AB']-regular['HR']-regular['SO'])\n",
    "regular['2b_luck']=regular['2B']/(regular['AB']-regular['HR']-regular['SO'])\n",
    "regular['3b_luck']=regular['3B']/(regular['AB']-regular['HR']-regular['SO'])"
   ]
  },
  {
   "cell_type": "markdown",
   "metadata": {},
   "source": [
    "## 포지션 칼럼 범주화"
   ]
  },
  {
   "cell_type": "code",
   "execution_count": 1806,
   "metadata": {},
   "outputs": [],
   "source": [
    "# 포지션 칼럼을 기준으로 내야수/외야수/지명타자/포수의 값을 가지는 or 좌타/우타/양타 \n",
    "position1 = regular[\"position\"].apply(lambda x: x.split(\"(\")[0])\n",
    "position2 = regular[\"position\"].apply(lambda x: x.split(\"(\")[1][2:4])"
   ]
  },
  {
   "cell_type": "code",
   "execution_count": 1807,
   "metadata": {},
   "outputs": [],
   "source": [
    "regular = pd.concat([regular,pd.get_dummies(position1)],axis=1)\n",
    "regular = pd.concat([regular,pd.get_dummies(position2)],axis=1)"
   ]
  },
  {
   "cell_type": "markdown",
   "metadata": {},
   "source": [
    "## 변동성이 큰 지표는 total로 값을 넣어줌"
   ]
  },
  {
   "cell_type": "code",
   "execution_count": 1808,
   "metadata": {
    "scrolled": true
   },
   "outputs": [
    {
     "name": "stderr",
     "output_type": "stream",
     "text": [
      "<ipython-input-1808-ca957976fed1>:8: RuntimeWarning: invalid value encountered in longlong_scalars\n",
      "  total_1BnAB.append(a[\"1B\"].sum()/a[\"AB\"].sum())\n",
      "<ipython-input-1808-ca957976fed1>:9: RuntimeWarning: invalid value encountered in longlong_scalars\n",
      "  total_2BnAB.append(a[\"2B\"].sum()/a[\"2B\"].sum())\n",
      "<ipython-input-1808-ca957976fed1>:10: RuntimeWarning: invalid value encountered in longlong_scalars\n",
      "  total_3BnAB.append(a[\"3B\"].sum()/a[\"AB\"].sum())\n",
      "<ipython-input-1808-ca957976fed1>:11: RuntimeWarning: invalid value encountered in double_scalars\n",
      "  total_avg.append((a[\"avg\"]*a[\"AB\"]).sum()/a[\"AB\"].sum())\n"
     ]
    }
   ],
   "source": [
    "total_1BnAB=[]\n",
    "total_2BnAB=[]\n",
    "total_3BnAB=[]\n",
    "total_avg=[]\n",
    "\n",
    "for i in range(len(regular)):\n",
    "    a=regular.loc[(regular[\"batter_name\"]==regular[\"batter_name\"].iloc[i])&(regular[\"year\"]<regular[\"year\"].iloc[i])]\n",
    "    total_1BnAB.append(a[\"1B\"].sum()/a[\"AB\"].sum())\n",
    "    total_2BnAB.append(a[\"2B\"].sum()/a[\"2B\"].sum())\n",
    "    total_3BnAB.append(a[\"3B\"].sum()/a[\"AB\"].sum())\n",
    "    total_avg.append((a[\"avg\"]*a[\"AB\"]).sum()/a[\"AB\"].sum())"
   ]
  },
  {
   "cell_type": "code",
   "execution_count": 1809,
   "metadata": {},
   "outputs": [],
   "source": [
    "regular[\"total_1BnAB\"]=total_1BnAB\n",
    "regular[\"total_2BnAB\"]=total_2BnAB\n",
    "regular[\"total_3BnAB\"]=total_3BnAB\n",
    "regular['total_avg']=total_avg"
   ]
  },
  {
   "cell_type": "markdown",
   "metadata": {},
   "source": [
    "## 과거 n개년 데이터를 feature로 만드는 함수"
   ]
  },
  {
   "cell_type": "code",
   "execution_count": 1810,
   "metadata": {},
   "outputs": [],
   "source": [
    "def make_dataset(n,data):\n",
    "    # 과거 n개년에 대해서 실행\n",
    "    for year in range(1,n+1):\n",
    "        for j in ['avg', 'G', 'AB', 'R', 'H','1B','2B', '3B', 'HR', 'TB', \"GDP\" ,'RBI','CS',\"E\",'BB', 'HBP', 'SO', 'SLG', 'OBP', '1b_luck','2b_luck','3b_luck',\"OPS\"]:\n",
    "            lag_1_avg=[]\n",
    "            for i in range(len(data)): \n",
    "                if len(data.loc[(data['batter_name']==data['batter_name'].iloc[i])&(data['year']==data['year'].iloc[i]-year)][j])==0:\n",
    "                    lag_1_avg.append(np.nan)\n",
    "                else:\n",
    "                    lag_1_avg.append(data.loc[(data['batter_name']==data['batter_name'].iloc[i])&(data['year']==data['year'].iloc[i]-year)][j].iloc[0])\n",
    "\n",
    "            data[f'lag_{year}_'+j]=lag_1_avg\n",
    "            print(f\"과거{year}년 {j} 칼럼 완성\")\n",
    "    return data"
   ]
  },
  {
   "cell_type": "code",
   "execution_count": 1811,
   "metadata": {
    "scrolled": true
   },
   "outputs": [
    {
     "name": "stdout",
     "output_type": "stream",
     "text": [
      "과거1년 avg 칼럼 완성\n",
      "과거1년 G 칼럼 완성\n",
      "과거1년 AB 칼럼 완성\n",
      "과거1년 R 칼럼 완성\n",
      "과거1년 H 칼럼 완성\n",
      "과거1년 1B 칼럼 완성\n",
      "과거1년 2B 칼럼 완성\n",
      "과거1년 3B 칼럼 완성\n",
      "과거1년 HR 칼럼 완성\n",
      "과거1년 TB 칼럼 완성\n",
      "과거1년 GDP 칼럼 완성\n",
      "과거1년 RBI 칼럼 완성\n",
      "과거1년 CS 칼럼 완성\n",
      "과거1년 E 칼럼 완성\n",
      "과거1년 BB 칼럼 완성\n",
      "과거1년 HBP 칼럼 완성\n",
      "과거1년 SO 칼럼 완성\n",
      "과거1년 SLG 칼럼 완성\n",
      "과거1년 OBP 칼럼 완성\n",
      "과거1년 1b_luck 칼럼 완성\n",
      "과거1년 2b_luck 칼럼 완성\n",
      "과거1년 3b_luck 칼럼 완성\n",
      "과거1년 OPS 칼럼 완성\n",
      "과거2년 avg 칼럼 완성\n",
      "과거2년 G 칼럼 완성\n",
      "과거2년 AB 칼럼 완성\n",
      "과거2년 R 칼럼 완성\n",
      "과거2년 H 칼럼 완성\n",
      "과거2년 1B 칼럼 완성\n",
      "과거2년 2B 칼럼 완성\n",
      "과거2년 3B 칼럼 완성\n",
      "과거2년 HR 칼럼 완성\n",
      "과거2년 TB 칼럼 완성\n",
      "과거2년 GDP 칼럼 완성\n",
      "과거2년 RBI 칼럼 완성\n",
      "과거2년 CS 칼럼 완성\n",
      "과거2년 E 칼럼 완성\n",
      "과거2년 BB 칼럼 완성\n",
      "과거2년 HBP 칼럼 완성\n",
      "과거2년 SO 칼럼 완성\n",
      "과거2년 SLG 칼럼 완성\n",
      "과거2년 OBP 칼럼 완성\n",
      "과거2년 1b_luck 칼럼 완성\n",
      "과거2년 2b_luck 칼럼 완성\n",
      "과거2년 3b_luck 칼럼 완성\n",
      "과거2년 OPS 칼럼 완성\n"
     ]
    }
   ],
   "source": [
    "data = make_dataset(2,regular)"
   ]
  },
  {
   "cell_type": "markdown",
   "metadata": {},
   "source": [
    "## train set에서 제거해야할 칼럼"
   ]
  },
  {
   "cell_type": "code",
   "execution_count": 1812,
   "metadata": {},
   "outputs": [],
   "source": [
    "start_idx = list(data.columns).index('3b_luck')"
   ]
  },
  {
   "cell_type": "code",
   "execution_count": 1813,
   "metadata": {},
   "outputs": [],
   "source": [
    "# total, 최근 1년 변수들과 age변수 반영\n",
    "input_columns = list(data.columns)[start_idx:]+[\"OPS\"]"
   ]
  },
  {
   "cell_type": "markdown",
   "metadata": {},
   "source": [
    "## train,test set 분리"
   ]
  },
  {
   "cell_type": "code",
   "execution_count": 1844,
   "metadata": {},
   "outputs": [],
   "source": [
    "# 전체년도\n",
    "train = data.loc[data[\"year\"]!=2018,input_columns]\n",
    "test = data.loc[data[\"year\"]==2018,input_columns]\n",
    "\n",
    "#  null인 값 제거\n",
    "train = train.dropna(axis=0)\n",
    "test = test.dropna(axis=0)"
   ]
  },
  {
   "cell_type": "code",
   "execution_count": 1845,
   "metadata": {},
   "outputs": [],
   "source": [
    "X_train = train.drop([\"OPS\"], axis=1)\n",
    "y_train = train[\"OPS\"]\n",
    "\n",
    "X_test = test.drop([\"OPS\"], axis=1)\n",
    "y_test = test[\"OPS\"]"
   ]
  },
  {
   "cell_type": "markdown",
   "metadata": {},
   "source": [
    "## Regularize"
   ]
  },
  {
   "cell_type": "code",
   "execution_count": 1816,
   "metadata": {},
   "outputs": [],
   "source": [
    "from sklearn.preprocessing import StandardScaler, MinMaxScaler\n",
    "\n",
    "scaler = MinMaxScaler()\n",
    "scaler.fit(X_train)\n",
    "X_train = scaler.transform(X_train)\n",
    "X_test = scaler.transform(X_test)"
   ]
  },
  {
   "cell_type": "markdown",
   "metadata": {},
   "source": [
    "## MLP"
   ]
  },
  {
   "cell_type": "code",
   "execution_count": 1817,
   "metadata": {},
   "outputs": [],
   "source": [
    "import tensorflow as tf\n",
    "from tensorflow import keras"
   ]
  },
  {
   "cell_type": "code",
   "execution_count": 1779,
   "metadata": {},
   "outputs": [],
   "source": [
    "# 파라미터 초기화 설정\n",
    "lecun_init = keras.initializers.VarianceScaling(scale=2.,\n",
    "                                mode=\"fan_in\",distribution=\"truncated_normal\")"
   ]
  },
  {
   "cell_type": "code",
   "execution_count": 1822,
   "metadata": {},
   "outputs": [
    {
     "name": "stdout",
     "output_type": "stream",
     "text": [
      "Epoch 1/200\n",
      "71/71 [==============================] - 1s 11ms/step - loss: 0.1235 - mse: 0.1235 - val_loss: 0.0257 - val_mse: 0.0257\n",
      "Epoch 2/200\n",
      "71/71 [==============================] - 0s 5ms/step - loss: 0.0202 - mse: 0.0202 - val_loss: 0.0215 - val_mse: 0.0215\n",
      "Epoch 3/200\n",
      "71/71 [==============================] - 0s 4ms/step - loss: 0.0192 - mse: 0.0192 - val_loss: 0.0197 - val_mse: 0.0197\n",
      "Epoch 4/200\n",
      "71/71 [==============================] - 0s 3ms/step - loss: 0.0187 - mse: 0.0187 - val_loss: 0.0215 - val_mse: 0.0215\n",
      "Epoch 5/200\n",
      "71/71 [==============================] - 0s 3ms/step - loss: 0.0167 - mse: 0.0167 - val_loss: 0.0244 - val_mse: 0.0244\n",
      "Epoch 6/200\n",
      "71/71 [==============================] - 0s 3ms/step - loss: 0.0165 - mse: 0.0165 - val_loss: 0.0208 - val_mse: 0.0208\n",
      "Epoch 7/200\n",
      "71/71 [==============================] - 0s 4ms/step - loss: 0.0155 - mse: 0.0155 - val_loss: 0.0188 - val_mse: 0.0188\n",
      "Epoch 8/200\n",
      "71/71 [==============================] - 0s 3ms/step - loss: 0.0151 - mse: 0.0151 - val_loss: 0.0243 - val_mse: 0.0243\n",
      "Epoch 9/200\n",
      "71/71 [==============================] - 0s 3ms/step - loss: 0.0156 - mse: 0.0156 - val_loss: 0.0173 - val_mse: 0.0173\n",
      "Epoch 10/200\n",
      "71/71 [==============================] - 0s 5ms/step - loss: 0.0168 - mse: 0.0168 - val_loss: 0.0190 - val_mse: 0.0190\n",
      "Epoch 11/200\n",
      "71/71 [==============================] - 0s 5ms/step - loss: 0.0166 - mse: 0.0166 - val_loss: 0.0189 - val_mse: 0.0189\n",
      "Epoch 12/200\n",
      "71/71 [==============================] - 0s 3ms/step - loss: 0.0151 - mse: 0.0151 - val_loss: 0.0188 - val_mse: 0.0188\n",
      "Epoch 13/200\n",
      "71/71 [==============================] - 0s 3ms/step - loss: 0.0149 - mse: 0.0149 - val_loss: 0.0193 - val_mse: 0.0193\n",
      "Epoch 14/200\n",
      "71/71 [==============================] - 0s 3ms/step - loss: 0.0148 - mse: 0.0148 - val_loss: 0.0186 - val_mse: 0.0186\n",
      "Epoch 15/200\n",
      "71/71 [==============================] - 0s 3ms/step - loss: 0.0146 - mse: 0.0146 - val_loss: 0.0250 - val_mse: 0.0250\n",
      "Epoch 16/200\n",
      "71/71 [==============================] - 0s 6ms/step - loss: 0.0183 - mse: 0.0183 - val_loss: 0.0237 - val_mse: 0.0237\n",
      "Epoch 17/200\n",
      "71/71 [==============================] - 0s 5ms/step - loss: 0.0165 - mse: 0.0165 - val_loss: 0.0185 - val_mse: 0.0185\n",
      "Epoch 18/200\n",
      "71/71 [==============================] - 0s 6ms/step - loss: 0.0161 - mse: 0.0161 - val_loss: 0.0214 - val_mse: 0.0214\n",
      "Epoch 19/200\n",
      "71/71 [==============================] - 0s 5ms/step - loss: 0.0158 - mse: 0.0158 - val_loss: 0.0176 - val_mse: 0.0176\n",
      "Epoch 20/200\n",
      "71/71 [==============================] - 0s 4ms/step - loss: 0.0146 - mse: 0.0146 - val_loss: 0.0153 - val_mse: 0.0153\n",
      "Epoch 21/200\n",
      "71/71 [==============================] - 0s 6ms/step - loss: 0.0148 - mse: 0.0148 - val_loss: 0.0161 - val_mse: 0.0161\n",
      "Epoch 22/200\n",
      "71/71 [==============================] - 0s 3ms/step - loss: 0.0145 - mse: 0.0145 - val_loss: 0.0182 - val_mse: 0.0182\n",
      "Epoch 23/200\n",
      "71/71 [==============================] - 0s 3ms/step - loss: 0.0140 - mse: 0.0140 - val_loss: 0.0205 - val_mse: 0.0205\n",
      "Epoch 24/200\n",
      "71/71 [==============================] - 0s 4ms/step - loss: 0.0148 - mse: 0.0148 - val_loss: 0.0185 - val_mse: 0.0185\n",
      "Epoch 25/200\n",
      "71/71 [==============================] - 0s 3ms/step - loss: 0.0153 - mse: 0.0153 - val_loss: 0.0172 - val_mse: 0.0172\n",
      "Epoch 26/200\n",
      "71/71 [==============================] - 0s 5ms/step - loss: 0.0143 - mse: 0.0143 - val_loss: 0.0192 - val_mse: 0.0192\n",
      "Epoch 27/200\n",
      "71/71 [==============================] - 0s 2ms/step - loss: 0.0148 - mse: 0.0148 - val_loss: 0.0238 - val_mse: 0.0238\n",
      "Epoch 28/200\n",
      "71/71 [==============================] - 0s 3ms/step - loss: 0.0154 - mse: 0.0154 - val_loss: 0.0252 - val_mse: 0.0252\n",
      "Epoch 29/200\n",
      "71/71 [==============================] - 0s 3ms/step - loss: 0.0146 - mse: 0.0146 - val_loss: 0.0172 - val_mse: 0.0172\n",
      "Epoch 30/200\n",
      "71/71 [==============================] - 0s 3ms/step - loss: 0.0153 - mse: 0.0153 - val_loss: 0.0193 - val_mse: 0.0193\n",
      "Epoch 31/200\n",
      "71/71 [==============================] - 0s 3ms/step - loss: 0.0145 - mse: 0.0145 - val_loss: 0.0210 - val_mse: 0.0210\n",
      "Epoch 32/200\n",
      "71/71 [==============================] - 0s 3ms/step - loss: 0.0157 - mse: 0.0157 - val_loss: 0.0174 - val_mse: 0.0174\n",
      "Epoch 33/200\n",
      "71/71 [==============================] - 0s 3ms/step - loss: 0.0148 - mse: 0.0148 - val_loss: 0.0166 - val_mse: 0.0166\n",
      "Epoch 34/200\n",
      "71/71 [==============================] - 0s 3ms/step - loss: 0.0141 - mse: 0.0141 - val_loss: 0.0166 - val_mse: 0.0166\n",
      "Epoch 35/200\n",
      "71/71 [==============================] - 0s 3ms/step - loss: 0.0146 - mse: 0.0146 - val_loss: 0.0178 - val_mse: 0.0178\n",
      "Epoch 36/200\n",
      "71/71 [==============================] - 0s 3ms/step - loss: 0.0142 - mse: 0.0142 - val_loss: 0.0163 - val_mse: 0.0163\n",
      "Epoch 37/200\n",
      "71/71 [==============================] - 0s 3ms/step - loss: 0.0139 - mse: 0.0139 - val_loss: 0.0267 - val_mse: 0.0267\n",
      "Epoch 38/200\n",
      "71/71 [==============================] - 0s 3ms/step - loss: 0.0172 - mse: 0.0172 - val_loss: 0.0172 - val_mse: 0.0172\n",
      "Epoch 39/200\n",
      "71/71 [==============================] - 0s 3ms/step - loss: 0.0143 - mse: 0.0143 - val_loss: 0.0196 - val_mse: 0.0196\n",
      "Epoch 40/200\n",
      "71/71 [==============================] - 0s 3ms/step - loss: 0.0149 - mse: 0.0149 - val_loss: 0.0173 - val_mse: 0.0173\n",
      "Epoch 41/200\n",
      "71/71 [==============================] - 0s 3ms/step - loss: 0.0144 - mse: 0.0144 - val_loss: 0.0166 - val_mse: 0.0166\n",
      "Epoch 42/200\n",
      "71/71 [==============================] - 0s 3ms/step - loss: 0.0155 - mse: 0.0155 - val_loss: 0.0184 - val_mse: 0.0184\n",
      "Epoch 43/200\n",
      "71/71 [==============================] - 0s 3ms/step - loss: 0.0160 - mse: 0.0160 - val_loss: 0.0179 - val_mse: 0.0179\n",
      "Epoch 44/200\n",
      "71/71 [==============================] - 0s 2ms/step - loss: 0.0147 - mse: 0.0147 - val_loss: 0.0158 - val_mse: 0.0158\n",
      "Epoch 45/200\n",
      "71/71 [==============================] - 0s 3ms/step - loss: 0.0138 - mse: 0.0138 - val_loss: 0.0172 - val_mse: 0.0172\n",
      "Epoch 46/200\n",
      "71/71 [==============================] - 0s 3ms/step - loss: 0.0147 - mse: 0.0147 - val_loss: 0.0188 - val_mse: 0.0188\n",
      "Epoch 47/200\n",
      "71/71 [==============================] - 0s 3ms/step - loss: 0.0142 - mse: 0.0142 - val_loss: 0.0206 - val_mse: 0.0206\n",
      "Epoch 48/200\n",
      "71/71 [==============================] - 0s 3ms/step - loss: 0.0153 - mse: 0.0153 - val_loss: 0.0184 - val_mse: 0.0184\n",
      "Epoch 49/200\n",
      "71/71 [==============================] - 0s 3ms/step - loss: 0.0161 - mse: 0.0161 - val_loss: 0.0168 - val_mse: 0.0168\n",
      "Epoch 50/200\n",
      "71/71 [==============================] - 0s 3ms/step - loss: 0.0141 - mse: 0.0141 - val_loss: 0.0167 - val_mse: 0.0167\n",
      "Epoch 51/200\n",
      "71/71 [==============================] - 0s 3ms/step - loss: 0.0139 - mse: 0.0139 - val_loss: 0.0159 - val_mse: 0.0159\n",
      "Epoch 52/200\n",
      "71/71 [==============================] - 0s 2ms/step - loss: 0.0132 - mse: 0.0132 - val_loss: 0.0186 - val_mse: 0.0186\n",
      "Epoch 53/200\n",
      "71/71 [==============================] - 0s 3ms/step - loss: 0.0148 - mse: 0.0148 - val_loss: 0.0169 - val_mse: 0.0169\n",
      "Epoch 54/200\n",
      "71/71 [==============================] - 0s 3ms/step - loss: 0.0147 - mse: 0.0147 - val_loss: 0.0175 - val_mse: 0.0175\n",
      "Epoch 55/200\n",
      "71/71 [==============================] - 0s 2ms/step - loss: 0.0147 - mse: 0.0147 - val_loss: 0.0175 - val_mse: 0.0175\n",
      "Epoch 56/200\n",
      "71/71 [==============================] - 0s 2ms/step - loss: 0.0138 - mse: 0.0138 - val_loss: 0.0162 - val_mse: 0.0162\n",
      "Epoch 57/200\n",
      "71/71 [==============================] - 0s 4ms/step - loss: 0.0135 - mse: 0.0135 - val_loss: 0.0176 - val_mse: 0.0176\n",
      "Epoch 58/200\n",
      "71/71 [==============================] - 0s 3ms/step - loss: 0.0141 - mse: 0.0141 - val_loss: 0.0171 - val_mse: 0.0171\n",
      "Epoch 59/200\n",
      "71/71 [==============================] - 0s 3ms/step - loss: 0.0141 - mse: 0.0141 - val_loss: 0.0156 - val_mse: 0.0156\n",
      "Epoch 60/200\n",
      "71/71 [==============================] - 0s 3ms/step - loss: 0.0143 - mse: 0.0143 - val_loss: 0.0172 - val_mse: 0.0172\n",
      "Epoch 61/200\n",
      "71/71 [==============================] - 0s 3ms/step - loss: 0.0160 - mse: 0.0160 - val_loss: 0.0180 - val_mse: 0.0180\n",
      "Epoch 62/200\n",
      "71/71 [==============================] - 0s 3ms/step - loss: 0.0142 - mse: 0.0142 - val_loss: 0.0178 - val_mse: 0.0178\n",
      "Epoch 63/200\n",
      "71/71 [==============================] - 0s 3ms/step - loss: 0.0159 - mse: 0.0159 - val_loss: 0.0174 - val_mse: 0.0174\n",
      "Epoch 64/200\n",
      "71/71 [==============================] - 0s 3ms/step - loss: 0.0137 - mse: 0.0137 - val_loss: 0.0156 - val_mse: 0.0156\n",
      "Epoch 65/200\n",
      "71/71 [==============================] - 0s 3ms/step - loss: 0.0152 - mse: 0.0152 - val_loss: 0.0233 - val_mse: 0.0233\n",
      "Epoch 66/200\n",
      "71/71 [==============================] - 0s 3ms/step - loss: 0.0138 - mse: 0.0138 - val_loss: 0.0184 - val_mse: 0.0184\n",
      "Epoch 67/200\n",
      "71/71 [==============================] - 0s 3ms/step - loss: 0.0133 - mse: 0.0133 - val_loss: 0.0176 - val_mse: 0.0176\n",
      "Epoch 68/200\n",
      "71/71 [==============================] - 0s 2ms/step - loss: 0.0143 - mse: 0.0143 - val_loss: 0.0289 - val_mse: 0.0289\n",
      "Epoch 69/200\n",
      "71/71 [==============================] - 0s 3ms/step - loss: 0.0157 - mse: 0.0157 - val_loss: 0.0156 - val_mse: 0.0156\n",
      "Epoch 70/200\n",
      "71/71 [==============================] - 0s 3ms/step - loss: 0.0138 - mse: 0.0138 - val_loss: 0.0160 - val_mse: 0.0160\n",
      "Epoch 71/200\n",
      "71/71 [==============================] - 0s 3ms/step - loss: 0.0136 - mse: 0.0136 - val_loss: 0.0184 - val_mse: 0.0184\n",
      "Epoch 72/200\n",
      "71/71 [==============================] - 0s 3ms/step - loss: 0.0132 - mse: 0.0132 - val_loss: 0.0176 - val_mse: 0.0176\n",
      "Epoch 73/200\n",
      "71/71 [==============================] - 0s 3ms/step - loss: 0.0135 - mse: 0.0135 - val_loss: 0.0156 - val_mse: 0.0156\n",
      "Epoch 74/200\n",
      "71/71 [==============================] - 0s 3ms/step - loss: 0.0139 - mse: 0.0139 - val_loss: 0.0198 - val_mse: 0.0198\n",
      "Epoch 75/200\n",
      "71/71 [==============================] - 0s 3ms/step - loss: 0.0137 - mse: 0.0137 - val_loss: 0.0162 - val_mse: 0.0162\n",
      "Epoch 76/200\n",
      "71/71 [==============================] - 0s 3ms/step - loss: 0.0141 - mse: 0.0141 - val_loss: 0.0172 - val_mse: 0.0172\n",
      "Epoch 77/200\n",
      "71/71 [==============================] - 0s 3ms/step - loss: 0.0130 - mse: 0.0130 - val_loss: 0.0189 - val_mse: 0.0189\n",
      "Epoch 78/200\n",
      "71/71 [==============================] - 0s 3ms/step - loss: 0.0143 - mse: 0.0143 - val_loss: 0.0195 - val_mse: 0.0195\n",
      "Epoch 79/200\n",
      "71/71 [==============================] - 0s 3ms/step - loss: 0.0138 - mse: 0.0138 - val_loss: 0.0154 - val_mse: 0.0154\n",
      "Epoch 80/200\n",
      "71/71 [==============================] - 0s 3ms/step - loss: 0.0149 - mse: 0.0149 - val_loss: 0.0162 - val_mse: 0.0162\n",
      "Epoch 81/200\n",
      "71/71 [==============================] - 0s 3ms/step - loss: 0.0138 - mse: 0.0138 - val_loss: 0.0168 - val_mse: 0.0168\n",
      "Epoch 82/200\n",
      "71/71 [==============================] - 0s 2ms/step - loss: 0.0138 - mse: 0.0138 - val_loss: 0.0160 - val_mse: 0.0160\n",
      "Epoch 83/200\n",
      "71/71 [==============================] - 0s 2ms/step - loss: 0.0134 - mse: 0.0134 - val_loss: 0.0176 - val_mse: 0.0176\n",
      "Epoch 84/200\n",
      "71/71 [==============================] - 0s 3ms/step - loss: 0.0132 - mse: 0.0132 - val_loss: 0.0182 - val_mse: 0.0182\n",
      "Epoch 85/200\n",
      "71/71 [==============================] - 0s 3ms/step - loss: 0.0137 - mse: 0.0137 - val_loss: 0.0168 - val_mse: 0.0168\n",
      "Epoch 86/200\n",
      "71/71 [==============================] - 0s 2ms/step - loss: 0.0154 - mse: 0.0154 - val_loss: 0.0175 - val_mse: 0.0175\n",
      "Epoch 87/200\n",
      "71/71 [==============================] - 0s 2ms/step - loss: 0.0145 - mse: 0.0145 - val_loss: 0.0173 - val_mse: 0.0173\n",
      "Epoch 88/200\n",
      "71/71 [==============================] - 0s 2ms/step - loss: 0.0133 - mse: 0.0133 - val_loss: 0.0178 - val_mse: 0.0178\n",
      "Epoch 89/200\n",
      "71/71 [==============================] - 0s 2ms/step - loss: 0.0145 - mse: 0.0145 - val_loss: 0.0201 - val_mse: 0.0201\n",
      "Epoch 90/200\n",
      "71/71 [==============================] - 0s 3ms/step - loss: 0.0151 - mse: 0.0151 - val_loss: 0.0164 - val_mse: 0.0164\n",
      "Epoch 91/200\n",
      "71/71 [==============================] - 0s 4ms/step - loss: 0.0134 - mse: 0.0134 - val_loss: 0.0152 - val_mse: 0.0152\n",
      "Epoch 92/200\n",
      "71/71 [==============================] - 0s 3ms/step - loss: 0.0134 - mse: 0.0134 - val_loss: 0.0162 - val_mse: 0.0162\n",
      "Epoch 93/200\n",
      "71/71 [==============================] - 0s 2ms/step - loss: 0.0135 - mse: 0.0135 - val_loss: 0.0160 - val_mse: 0.0160\n",
      "Epoch 94/200\n",
      "71/71 [==============================] - 0s 3ms/step - loss: 0.0130 - mse: 0.0130 - val_loss: 0.0162 - val_mse: 0.0162\n",
      "Epoch 95/200\n",
      "71/71 [==============================] - 0s 2ms/step - loss: 0.0131 - mse: 0.0131 - val_loss: 0.0168 - val_mse: 0.0168\n",
      "Epoch 96/200\n",
      "71/71 [==============================] - 0s 3ms/step - loss: 0.0163 - mse: 0.0163 - val_loss: 0.0181 - val_mse: 0.0181\n",
      "Epoch 97/200\n",
      "71/71 [==============================] - 0s 3ms/step - loss: 0.0131 - mse: 0.0131 - val_loss: 0.0183 - val_mse: 0.0183\n",
      "Epoch 98/200\n",
      "71/71 [==============================] - 0s 3ms/step - loss: 0.0138 - mse: 0.0138 - val_loss: 0.0225 - val_mse: 0.0225\n",
      "Epoch 99/200\n",
      "71/71 [==============================] - 0s 3ms/step - loss: 0.0139 - mse: 0.0139 - val_loss: 0.0169 - val_mse: 0.0169\n",
      "Epoch 100/200\n",
      "71/71 [==============================] - 0s 3ms/step - loss: 0.0128 - mse: 0.0128 - val_loss: 0.0158 - val_mse: 0.0158\n",
      "Epoch 101/200\n",
      "71/71 [==============================] - 0s 3ms/step - loss: 0.0132 - mse: 0.0132 - val_loss: 0.0166 - val_mse: 0.0166\n",
      "Epoch 102/200\n",
      "71/71 [==============================] - 0s 3ms/step - loss: 0.0130 - mse: 0.0130 - val_loss: 0.0159 - val_mse: 0.0159\n",
      "Epoch 103/200\n",
      "71/71 [==============================] - 0s 3ms/step - loss: 0.0131 - mse: 0.0131 - val_loss: 0.0178 - val_mse: 0.0178\n",
      "Epoch 104/200\n",
      "71/71 [==============================] - 0s 3ms/step - loss: 0.0133 - mse: 0.0133 - val_loss: 0.0212 - val_mse: 0.0212\n",
      "Epoch 105/200\n",
      "71/71 [==============================] - 0s 3ms/step - loss: 0.0130 - mse: 0.0130 - val_loss: 0.0158 - val_mse: 0.0158\n",
      "Epoch 106/200\n",
      "71/71 [==============================] - 0s 4ms/step - loss: 0.0135 - mse: 0.0135 - val_loss: 0.0148 - val_mse: 0.0148\n",
      "Epoch 107/200\n",
      "71/71 [==============================] - 0s 3ms/step - loss: 0.0137 - mse: 0.0137 - val_loss: 0.0158 - val_mse: 0.0158\n",
      "Epoch 108/200\n",
      "71/71 [==============================] - 0s 3ms/step - loss: 0.0148 - mse: 0.0148 - val_loss: 0.0159 - val_mse: 0.0159\n",
      "Epoch 109/200\n",
      "71/71 [==============================] - 0s 3ms/step - loss: 0.0128 - mse: 0.0128 - val_loss: 0.0162 - val_mse: 0.0162\n",
      "Epoch 110/200\n",
      "71/71 [==============================] - 0s 3ms/step - loss: 0.0131 - mse: 0.0131 - val_loss: 0.0157 - val_mse: 0.0157\n",
      "Epoch 111/200\n",
      "71/71 [==============================] - 0s 3ms/step - loss: 0.0134 - mse: 0.0134 - val_loss: 0.0149 - val_mse: 0.0149\n",
      "Epoch 112/200\n",
      "71/71 [==============================] - 0s 3ms/step - loss: 0.0133 - mse: 0.0133 - val_loss: 0.0158 - val_mse: 0.0158\n",
      "Epoch 113/200\n",
      "71/71 [==============================] - 0s 4ms/step - loss: 0.0138 - mse: 0.0138 - val_loss: 0.0175 - val_mse: 0.0175\n",
      "Epoch 114/200\n",
      "71/71 [==============================] - 0s 3ms/step - loss: 0.0138 - mse: 0.0138 - val_loss: 0.0167 - val_mse: 0.0167\n",
      "Epoch 115/200\n",
      "71/71 [==============================] - 0s 2ms/step - loss: 0.0137 - mse: 0.0137 - val_loss: 0.0169 - val_mse: 0.0169\n",
      "Epoch 116/200\n",
      "71/71 [==============================] - 0s 2ms/step - loss: 0.0124 - mse: 0.0124 - val_loss: 0.0167 - val_mse: 0.0167\n",
      "Epoch 117/200\n",
      "71/71 [==============================] - 0s 3ms/step - loss: 0.0136 - mse: 0.0136 - val_loss: 0.0168 - val_mse: 0.0168\n",
      "Epoch 118/200\n",
      "71/71 [==============================] - 0s 3ms/step - loss: 0.0139 - mse: 0.0139 - val_loss: 0.0164 - val_mse: 0.0164\n",
      "Epoch 119/200\n",
      "71/71 [==============================] - 0s 3ms/step - loss: 0.0133 - mse: 0.0133 - val_loss: 0.0253 - val_mse: 0.0253\n",
      "Epoch 120/200\n",
      "71/71 [==============================] - 0s 3ms/step - loss: 0.0136 - mse: 0.0136 - val_loss: 0.0165 - val_mse: 0.0165\n",
      "Epoch 121/200\n",
      "71/71 [==============================] - 0s 3ms/step - loss: 0.0128 - mse: 0.0128 - val_loss: 0.0154 - val_mse: 0.0154\n",
      "Epoch 122/200\n",
      "71/71 [==============================] - 0s 3ms/step - loss: 0.0129 - mse: 0.0129 - val_loss: 0.0152 - val_mse: 0.0152\n",
      "Epoch 123/200\n",
      "71/71 [==============================] - 0s 3ms/step - loss: 0.0135 - mse: 0.0135 - val_loss: 0.0190 - val_mse: 0.0190\n",
      "Epoch 124/200\n",
      "71/71 [==============================] - 0s 3ms/step - loss: 0.0133 - mse: 0.0133 - val_loss: 0.0211 - val_mse: 0.0211\n"
     ]
    },
    {
     "name": "stdout",
     "output_type": "stream",
     "text": [
      "Epoch 125/200\n",
      "71/71 [==============================] - 0s 3ms/step - loss: 0.0136 - mse: 0.0136 - val_loss: 0.0153 - val_mse: 0.0153\n",
      "Epoch 126/200\n",
      "71/71 [==============================] - 0s 2ms/step - loss: 0.0128 - mse: 0.0128 - val_loss: 0.0160 - val_mse: 0.0160\n",
      "Epoch 127/200\n",
      "71/71 [==============================] - 0s 3ms/step - loss: 0.0131 - mse: 0.0131 - val_loss: 0.0154 - val_mse: 0.0154\n",
      "Epoch 128/200\n",
      "71/71 [==============================] - 0s 3ms/step - loss: 0.0125 - mse: 0.0125 - val_loss: 0.0166 - val_mse: 0.0166\n",
      "Epoch 129/200\n",
      "71/71 [==============================] - 0s 3ms/step - loss: 0.0139 - mse: 0.0139 - val_loss: 0.0157 - val_mse: 0.0157\n",
      "Epoch 130/200\n",
      "71/71 [==============================] - 0s 3ms/step - loss: 0.0127 - mse: 0.0127 - val_loss: 0.0168 - val_mse: 0.0168\n",
      "Epoch 131/200\n",
      "71/71 [==============================] - 0s 2ms/step - loss: 0.0141 - mse: 0.0141 - val_loss: 0.0163 - val_mse: 0.0163\n",
      "Epoch 132/200\n",
      "71/71 [==============================] - 0s 3ms/step - loss: 0.0140 - mse: 0.0140 - val_loss: 0.0167 - val_mse: 0.0167\n",
      "Epoch 133/200\n",
      "71/71 [==============================] - 0s 3ms/step - loss: 0.0140 - mse: 0.0140 - val_loss: 0.0161 - val_mse: 0.0161\n",
      "Epoch 134/200\n",
      "71/71 [==============================] - 0s 3ms/step - loss: 0.0131 - mse: 0.0131 - val_loss: 0.0159 - val_mse: 0.0159\n",
      "Epoch 135/200\n",
      "71/71 [==============================] - 0s 3ms/step - loss: 0.0128 - mse: 0.0128 - val_loss: 0.0184 - val_mse: 0.0184\n",
      "Epoch 136/200\n",
      "71/71 [==============================] - 0s 3ms/step - loss: 0.0135 - mse: 0.0135 - val_loss: 0.0160 - val_mse: 0.0160\n",
      "Epoch 137/200\n",
      "71/71 [==============================] - 0s 3ms/step - loss: 0.0128 - mse: 0.0128 - val_loss: 0.0152 - val_mse: 0.0152\n",
      "Epoch 138/200\n",
      "71/71 [==============================] - 0s 4ms/step - loss: 0.0129 - mse: 0.0129 - val_loss: 0.0170 - val_mse: 0.0170\n",
      "Epoch 139/200\n",
      "71/71 [==============================] - 0s 2ms/step - loss: 0.0128 - mse: 0.0128 - val_loss: 0.0173 - val_mse: 0.0173\n",
      "Epoch 140/200\n",
      "71/71 [==============================] - 0s 3ms/step - loss: 0.0135 - mse: 0.0135 - val_loss: 0.0159 - val_mse: 0.0159\n",
      "Epoch 141/200\n",
      "71/71 [==============================] - 0s 3ms/step - loss: 0.0129 - mse: 0.0129 - val_loss: 0.0163 - val_mse: 0.0163\n",
      "Epoch 142/200\n",
      "71/71 [==============================] - 0s 3ms/step - loss: 0.0129 - mse: 0.0129 - val_loss: 0.0159 - val_mse: 0.0159\n",
      "Epoch 143/200\n",
      "71/71 [==============================] - 0s 3ms/step - loss: 0.0128 - mse: 0.0128 - val_loss: 0.0166 - val_mse: 0.0166\n",
      "Epoch 144/200\n",
      "71/71 [==============================] - 0s 5ms/step - loss: 0.0131 - mse: 0.0131 - val_loss: 0.0178 - val_mse: 0.0178\n",
      "Epoch 145/200\n",
      "71/71 [==============================] - 0s 4ms/step - loss: 0.0133 - mse: 0.0133 - val_loss: 0.0175 - val_mse: 0.0175\n",
      "Epoch 146/200\n",
      "71/71 [==============================] - 0s 2ms/step - loss: 0.0132 - mse: 0.0132 - val_loss: 0.0186 - val_mse: 0.0186\n",
      "Epoch 147/200\n",
      "71/71 [==============================] - 0s 2ms/step - loss: 0.0133 - mse: 0.0133 - val_loss: 0.0162 - val_mse: 0.0162\n",
      "Epoch 148/200\n",
      "71/71 [==============================] - 0s 3ms/step - loss: 0.0132 - mse: 0.0132 - val_loss: 0.0163 - val_mse: 0.0163\n",
      "Epoch 149/200\n",
      "71/71 [==============================] - 0s 3ms/step - loss: 0.0132 - mse: 0.0132 - val_loss: 0.0187 - val_mse: 0.0187\n",
      "Epoch 150/200\n",
      "71/71 [==============================] - 0s 3ms/step - loss: 0.0135 - mse: 0.0135 - val_loss: 0.0161 - val_mse: 0.0161\n",
      "Epoch 151/200\n",
      "71/71 [==============================] - 0s 3ms/step - loss: 0.0133 - mse: 0.0133 - val_loss: 0.0173 - val_mse: 0.0173\n",
      "Epoch 152/200\n",
      "71/71 [==============================] - 0s 3ms/step - loss: 0.0127 - mse: 0.0127 - val_loss: 0.0166 - val_mse: 0.0166\n",
      "Epoch 153/200\n",
      "71/71 [==============================] - 0s 3ms/step - loss: 0.0130 - mse: 0.0130 - val_loss: 0.0163 - val_mse: 0.0163\n",
      "Epoch 154/200\n",
      "71/71 [==============================] - 0s 3ms/step - loss: 0.0136 - mse: 0.0136 - val_loss: 0.0160 - val_mse: 0.0160\n",
      "Epoch 155/200\n",
      "71/71 [==============================] - 0s 3ms/step - loss: 0.0135 - mse: 0.0135 - val_loss: 0.0163 - val_mse: 0.0163\n",
      "Epoch 156/200\n",
      "71/71 [==============================] - 0s 3ms/step - loss: 0.0129 - mse: 0.0129 - val_loss: 0.0158 - val_mse: 0.0158\n",
      "Epoch 157/200\n",
      "71/71 [==============================] - 0s 3ms/step - loss: 0.0130 - mse: 0.0130 - val_loss: 0.0174 - val_mse: 0.0174\n",
      "Epoch 158/200\n",
      "71/71 [==============================] - 0s 5ms/step - loss: 0.0128 - mse: 0.0128 - val_loss: 0.0162 - val_mse: 0.0162\n",
      "Epoch 159/200\n",
      "71/71 [==============================] - 0s 3ms/step - loss: 0.0128 - mse: 0.0128 - val_loss: 0.0159 - val_mse: 0.0159\n",
      "Epoch 160/200\n",
      "71/71 [==============================] - 0s 5ms/step - loss: 0.0129 - mse: 0.0129 - val_loss: 0.0157 - val_mse: 0.0157\n",
      "Epoch 161/200\n",
      "71/71 [==============================] - 0s 3ms/step - loss: 0.0123 - mse: 0.0123 - val_loss: 0.0163 - val_mse: 0.0163\n",
      "Epoch 162/200\n",
      "71/71 [==============================] - 0s 3ms/step - loss: 0.0126 - mse: 0.0126 - val_loss: 0.0163 - val_mse: 0.0163\n",
      "Epoch 163/200\n",
      "71/71 [==============================] - 0s 4ms/step - loss: 0.0130 - mse: 0.0130 - val_loss: 0.0171 - val_mse: 0.0171\n",
      "Epoch 164/200\n",
      "71/71 [==============================] - 0s 3ms/step - loss: 0.0128 - mse: 0.0128 - val_loss: 0.0163 - val_mse: 0.0163\n",
      "Epoch 165/200\n",
      "71/71 [==============================] - 0s 3ms/step - loss: 0.0131 - mse: 0.0131 - val_loss: 0.0168 - val_mse: 0.0168\n",
      "Epoch 166/200\n",
      "71/71 [==============================] - 0s 3ms/step - loss: 0.0131 - mse: 0.0131 - val_loss: 0.0157 - val_mse: 0.0157\n",
      "Epoch 167/200\n",
      "71/71 [==============================] - 0s 4ms/step - loss: 0.0130 - mse: 0.0130 - val_loss: 0.0176 - val_mse: 0.0176\n",
      "Epoch 168/200\n",
      "71/71 [==============================] - 0s 3ms/step - loss: 0.0133 - mse: 0.0133 - val_loss: 0.0157 - val_mse: 0.0157\n",
      "Epoch 169/200\n",
      "71/71 [==============================] - 0s 3ms/step - loss: 0.0127 - mse: 0.0127 - val_loss: 0.0159 - val_mse: 0.0159\n",
      "Epoch 170/200\n",
      "71/71 [==============================] - 0s 4ms/step - loss: 0.0128 - mse: 0.0128 - val_loss: 0.0171 - val_mse: 0.0171\n",
      "Epoch 171/200\n",
      "71/71 [==============================] - 0s 4ms/step - loss: 0.0132 - mse: 0.0132 - val_loss: 0.0161 - val_mse: 0.0161\n",
      "Epoch 172/200\n",
      "71/71 [==============================] - 0s 2ms/step - loss: 0.0125 - mse: 0.0125 - val_loss: 0.0157 - val_mse: 0.0157\n",
      "Epoch 173/200\n",
      "71/71 [==============================] - 0s 2ms/step - loss: 0.0125 - mse: 0.0125 - val_loss: 0.0184 - val_mse: 0.0184\n",
      "Epoch 174/200\n",
      "71/71 [==============================] - 0s 3ms/step - loss: 0.0129 - mse: 0.0129 - val_loss: 0.0156 - val_mse: 0.0156\n",
      "Epoch 175/200\n",
      "71/71 [==============================] - 0s 3ms/step - loss: 0.0127 - mse: 0.0127 - val_loss: 0.0167 - val_mse: 0.0167\n",
      "Epoch 176/200\n",
      "71/71 [==============================] - 0s 3ms/step - loss: 0.0134 - mse: 0.0134 - val_loss: 0.0157 - val_mse: 0.0157\n",
      "Epoch 177/200\n",
      "71/71 [==============================] - 0s 3ms/step - loss: 0.0129 - mse: 0.0129 - val_loss: 0.0160 - val_mse: 0.0160\n",
      "Epoch 178/200\n",
      "71/71 [==============================] - 0s 3ms/step - loss: 0.0126 - mse: 0.0126 - val_loss: 0.0160 - val_mse: 0.0160\n",
      "Epoch 179/200\n",
      "71/71 [==============================] - 0s 3ms/step - loss: 0.0128 - mse: 0.0128 - val_loss: 0.0177 - val_mse: 0.0177\n",
      "Epoch 180/200\n",
      "71/71 [==============================] - 0s 3ms/step - loss: 0.0130 - mse: 0.0130 - val_loss: 0.0178 - val_mse: 0.0178\n",
      "Epoch 181/200\n",
      "71/71 [==============================] - 0s 3ms/step - loss: 0.0127 - mse: 0.0127 - val_loss: 0.0158 - val_mse: 0.0158\n",
      "Epoch 182/200\n",
      "71/71 [==============================] - 0s 3ms/step - loss: 0.0125 - mse: 0.0125 - val_loss: 0.0184 - val_mse: 0.0184\n",
      "Epoch 183/200\n",
      "71/71 [==============================] - 0s 3ms/step - loss: 0.0126 - mse: 0.0126 - val_loss: 0.0189 - val_mse: 0.0189\n",
      "Epoch 184/200\n",
      "71/71 [==============================] - 0s 3ms/step - loss: 0.0134 - mse: 0.0134 - val_loss: 0.0176 - val_mse: 0.0176\n",
      "Epoch 185/200\n",
      "71/71 [==============================] - 0s 4ms/step - loss: 0.0133 - mse: 0.0133 - val_loss: 0.0157 - val_mse: 0.0157\n",
      "Epoch 186/200\n",
      "71/71 [==============================] - 0s 3ms/step - loss: 0.0126 - mse: 0.0126 - val_loss: 0.0157 - val_mse: 0.0157\n",
      "Epoch 187/200\n",
      "71/71 [==============================] - 0s 3ms/step - loss: 0.0125 - mse: 0.0125 - val_loss: 0.0163 - val_mse: 0.0163\n",
      "Epoch 188/200\n",
      "71/71 [==============================] - 0s 2ms/step - loss: 0.0125 - mse: 0.0125 - val_loss: 0.0201 - val_mse: 0.0201\n",
      "Epoch 189/200\n",
      "71/71 [==============================] - 0s 3ms/step - loss: 0.0136 - mse: 0.0136 - val_loss: 0.0174 - val_mse: 0.0174\n",
      "Epoch 190/200\n",
      "71/71 [==============================] - 0s 3ms/step - loss: 0.0130 - mse: 0.0130 - val_loss: 0.0170 - val_mse: 0.0170\n",
      "Epoch 191/200\n",
      "71/71 [==============================] - 0s 2ms/step - loss: 0.0128 - mse: 0.0128 - val_loss: 0.0163 - val_mse: 0.0163\n",
      "Epoch 192/200\n",
      "71/71 [==============================] - 0s 2ms/step - loss: 0.0127 - mse: 0.0127 - val_loss: 0.0166 - val_mse: 0.0166\n",
      "Epoch 193/200\n",
      "71/71 [==============================] - 0s 3ms/step - loss: 0.0138 - mse: 0.0138 - val_loss: 0.0267 - val_mse: 0.0267\n",
      "Epoch 194/200\n",
      "71/71 [==============================] - 0s 3ms/step - loss: 0.0131 - mse: 0.0131 - val_loss: 0.0161 - val_mse: 0.0161\n",
      "Epoch 195/200\n",
      "71/71 [==============================] - 0s 2ms/step - loss: 0.0135 - mse: 0.0135 - val_loss: 0.0187 - val_mse: 0.0187\n",
      "Epoch 196/200\n",
      "71/71 [==============================] - 0s 4ms/step - loss: 0.0126 - mse: 0.0126 - val_loss: 0.0165 - val_mse: 0.0165\n",
      "Epoch 197/200\n",
      "71/71 [==============================] - 0s 3ms/step - loss: 0.0127 - mse: 0.0127 - val_loss: 0.0174 - val_mse: 0.0174\n",
      "Epoch 198/200\n",
      "71/71 [==============================] - 0s 3ms/step - loss: 0.0125 - mse: 0.0125 - val_loss: 0.0155 - val_mse: 0.0155\n",
      "Epoch 199/200\n",
      "71/71 [==============================] - 0s 3ms/step - loss: 0.0128 - mse: 0.0128 - val_loss: 0.0164 - val_mse: 0.0164\n",
      "Epoch 200/200\n",
      "71/71 [==============================] - 0s 3ms/step - loss: 0.0123 - mse: 0.0123 - val_loss: 0.0152 - val_mse: 0.0152\n"
     ]
    }
   ],
   "source": [
    "checkpoint_cb = keras.callbacks.ModelCheckpoint(\"final_mlp_best_model.h5\",\n",
    "                                               save_best_only = True)\n",
    "\n",
    "model1 = keras.models.Sequential([\n",
    "    keras.layers.Dense(128, activation = \"selu\", input_shape = X_train.shape[1:]),\n",
    "    keras.layers.Dense(1)\n",
    "])\n",
    "\n",
    "learning_rate = 1e-3\n",
    "max_epoch = 200\n",
    "model1.compile(loss = \"mse\", metrics = \"mse\", optimizer = keras.optimizers.Adam(lr=learning_rate))\n",
    "\n",
    "history = model1.fit(x=X_train,y=y_train, epochs = max_epoch, \n",
    "                           validation_data = (X_test,y_test),\n",
    "                          batch_size = 16,validation_batch_size=16,\n",
    "                    callbacks = [checkpoint_cb])"
   ]
  },
  {
   "cell_type": "code",
   "execution_count": 1895,
   "metadata": {},
   "outputs": [
    {
     "data": {
      "text/plain": [
       "<matplotlib.axes._subplots.AxesSubplot at 0x2a3b34f1b50>"
      ]
     },
     "execution_count": 1895,
     "metadata": {},
     "output_type": "execute_result"
    },
    {
     "data": {
      "image/png": "[encoded data removed]",
      "text/plain": [
       "<Figure size 432x288 with 1 Axes>"
      ]
     },
     "metadata": {
      "needs_background": "light"
     },
     "output_type": "display_data"
    }
   ],
   "source": [
    "pd.DataFrame(history.history).plot()"
   ]
  },
  {
   "cell_type": "markdown",
   "metadata": {},
   "source": [
    "## 모델 성능 평가"
   ]
  },
  {
   "cell_type": "code",
   "execution_count": 1823,
   "metadata": {},
   "outputs": [
    {
     "name": "stdout",
     "output_type": "stream",
     "text": [
      "4/4 [==============================] - 0s 4ms/step - loss: 0.0148 - mean_squared_error: 0.0148\n"
     ]
    },
    {
     "data": {
      "text/plain": [
       "0.014840076677501202"
      ]
     },
     "execution_count": 1823,
     "metadata": {},
     "output_type": "execute_result"
    }
   ],
   "source": [
    "model1 = keras.models.load_model(\"final_mlp_best_model.h5\") # 저장된 모델 불러오기\n",
    "(model1.evaluate(X_test,y_test)[1])"
   ]
  },
  {
   "cell_type": "code",
   "execution_count": 1828,
   "metadata": {
    "scrolled": false
   },
   "outputs": [
    {
     "data": {
      "text/plain": [
       "0.1216552506059644"
      ]
     },
     "execution_count": 1828,
     "metadata": {},
     "output_type": "execute_result"
    }
   ],
   "source": [
    "0.0148**(1/2)"
   ]
  },
  {
   "cell_type": "code",
   "execution_count": 1825,
   "metadata": {},
   "outputs": [],
   "source": [
    "predicted = model1.predict(X_test)\n",
    "result = pd.DataFrame(y_test)\n",
    "result[\"predicted\"]=predicted.flatten()"
   ]
  },
  {
   "cell_type": "markdown",
   "metadata": {},
   "source": [
    "## 예측값, 실제값 시각화"
   ]
  },
  {
   "cell_type": "code",
   "execution_count": 1834,
   "metadata": {},
   "outputs": [
    {
     "data": {
      "text/plain": [
       "Text(0, 0.5, 'target_OPS')"
      ]
     },
     "execution_count": 1834,
     "metadata": {},
     "output_type": "execute_result"
    },
    {
     "data": {
      "image/png": "[encoded data removed]",
      "text/plain": [
       "<Figure size 432x288 with 1 Axes>"
      ]
     },
     "metadata": {
      "needs_background": "light"
     },
     "output_type": "display_data"
    }
   ],
   "source": [
    "sns.scatterplot(x=\"predicted\", y=\"OPS\", data = result)\n",
    "plt.xlabel(\"predicted_OPS\")\n",
    "plt.ylabel(\"target_OPS\")"
   ]
  }
 ],
 "metadata": {
  "kernelspec": {
   "display_name": "Python 3",
   "language": "python",
   "name": "python3"
  },
  "language_info": {
   "codemirror_mode": {
    "name": "ipython",
    "version": 3
   },
   "file_extension": ".py",
   "mimetype": "text/x-python",
   "name": "python",
   "nbconvert_exporter": "python",
   "pygments_lexer": "ipython3",
   "version": "3.8.3"
  }
 },
 "nbformat": 4,
 "nbformat_minor": 4
}
