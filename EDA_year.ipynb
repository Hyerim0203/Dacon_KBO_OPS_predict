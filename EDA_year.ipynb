{
 "cells": [
  {
   "cell_type": "markdown",
   "metadata": {},
   "source": [
    "## 데이터 불러오기"
   ]
  },
  {
   "cell_type": "code",
   "execution_count": 58,
   "metadata": {},
   "outputs": [],
   "source": [
    "import pandas as pd\n",
    "import numpy as np\n",
    "import matplotlib.pyplot as plt\n",
    "import seaborn as sns\n",
    "%matplotlib inline\n",
    "\n",
    "from matplotlib import font_manager, rc\n",
    "import matplotlib as mpl\n",
    "font_path = \"C:\\\\Users\\\\이혜림\\\\Desktop\\\\Bita5/malgun.ttf\" \n",
    "font_name = font_manager.FontProperties(fname=font_path).get_name()\n",
    "rc(\"font\",family=font_name)\n",
    "mpl.rcParams[\"axes.unicode_minus\"]=False\n",
    "\n",
    "#경고 무시\n",
    "import warnings"
   ]
  },
  {
   "cell_type": "code",
   "execution_count": 71,
   "metadata": {},
   "outputs": [],
   "source": [
    "import sys\n",
    "import os\n",
    "data_path = os.path.join(\"..\",\"6th_data\")\n",
    "pre, reg, reg_day, sub = os.listdir(data_path)"
   ]
  },
  {
   "cell_type": "code",
   "execution_count": 72,
   "metadata": {},
   "outputs": [],
   "source": [
    "regular = pd.read_csv(\"../Regular_Season_Batter.csv\")"
   ]
  },
  {
   "cell_type": "markdown",
   "metadata": {},
   "source": [
    "## 운 관련 지표 추가"
   ]
  },
  {
   "cell_type": "code",
   "execution_count": 73,
   "metadata": {},
   "outputs": [],
   "source": [
    "regular['1B']=regular['H']-regular['2B']-regular['3B']-regular['HR']\n",
    "\n",
    "regular['1b_luck']=regular['1B']/(regular['AB']-regular['HR']-regular['SO'])\n",
    "regular['2b_luck']=regular['2B']/(regular['AB']-regular['HR']-regular['SO'])\n",
    "regular['3b_luck']=regular['3B']/(regular['AB']-regular['HR']-regular['SO'])"
   ]
  },
  {
   "cell_type": "markdown",
   "metadata": {},
   "source": [
    "## 변동성이 큰 지표는 total로 값을 넣어줌"
   ]
  },
  {
   "cell_type": "code",
   "execution_count": 74,
   "metadata": {},
   "outputs": [
    {
     "name": "stderr",
     "output_type": "stream",
     "text": [
      "<ipython-input-74-200038192d9b>:7: RuntimeWarning: invalid value encountered in longlong_scalars\n",
      "  total_1BnAB.append(a[\"1B\"].sum()/a[\"AB\"].sum())\n",
      "<ipython-input-74-200038192d9b>:8: RuntimeWarning: invalid value encountered in longlong_scalars\n",
      "  total_3BnAB.append(a[\"3B\"].sum()/a[\"AB\"].sum())\n",
      "<ipython-input-74-200038192d9b>:9: RuntimeWarning: invalid value encountered in double_scalars\n",
      "  total_avg.append((a[\"avg\"]*a[\"AB\"]).sum()/a[\"AB\"].sum())\n"
     ]
    }
   ],
   "source": [
    "total_1BnAB=[]\n",
    "total_3BnAB=[]\n",
    "total_avg=[]\n",
    "\n",
    "for i in range(len(regular)):\n",
    "    a=regular.loc[(regular[\"batter_name\"]==regular[\"batter_name\"].iloc[i])&(regular[\"year\"]<regular[\"year\"].iloc[i])]\n",
    "    total_1BnAB.append(a[\"1B\"].sum()/a[\"AB\"].sum())\n",
    "    total_3BnAB.append(a[\"3B\"].sum()/a[\"AB\"].sum())\n",
    "    total_avg.append((a[\"avg\"]*a[\"AB\"]).sum()/a[\"AB\"].sum())"
   ]
  },
  {
   "cell_type": "code",
   "execution_count": 75,
   "metadata": {},
   "outputs": [],
   "source": [
    "regular[\"total_1BnAB\"]=total_1BnAB\n",
    "regular[\"total_3BnAB\"]=total_3BnAB\n",
    "regular['total_avg']=total_avg"
   ]
  },
  {
   "cell_type": "markdown",
   "metadata": {},
   "source": [
    "## 과거 n개년 데이터를 feature로 만드는 함수\n",
    "- 년도별 변동성이 크지 않은 'avg', 'G', 'AB', 'R', 'H','2B', '3B', 'HR', 'TB', 'RBI', 'SB', 'CS', 'BB', 'HBP', 'SO', 'GDP','SLG', 'OBP', 'E','1b_luck','2b_luck','3b_luck'에 대해서 진행"
   ]
  },
  {
   "cell_type": "code",
   "execution_count": 16,
   "metadata": {},
   "outputs": [],
   "source": [
    "raw = regular[:]"
   ]
  },
  {
   "cell_type": "code",
   "execution_count": 76,
   "metadata": {},
   "outputs": [],
   "source": [
    "def make_dataset(n,data):\n",
    "    # 과거 n개년에 대해서 실행\n",
    "    for year in range(1,n+1):\n",
    "        for j in ['avg', 'G', 'AB', 'R', 'H','2B', '3B', 'HR', 'TB', 'RBI', 'SB', 'CS', 'BB', 'HBP', 'SO', 'GDP','SLG', 'OBP', 'E','1b_luck','2b_luck','3b_luck']:\n",
    "            lag_1_avg=[]\n",
    "            for i in range(len(data)): \n",
    "                if len(data.loc[(data['batter_name']==data['batter_name'].iloc[i])&(data['year']==data['year'].iloc[i]-year)][j])==0:\n",
    "                    lag_1_avg.append(np.nan)\n",
    "                else:\n",
    "                    lag_1_avg.append(data.loc[(data['batter_name']==data['batter_name'].iloc[i])&(data['year']==data['year'].iloc[i]-year)][j].iloc[0])\n",
    "\n",
    "            data[f'lag_{year}_'+j]=lag_1_avg\n",
    "            print(f\"과거{year}년 {j} 칼럼 완성\")\n",
    "    return data"
   ]
  },
  {
   "cell_type": "code",
   "execution_count": 77,
   "metadata": {},
   "outputs": [
    {
     "name": "stdout",
     "output_type": "stream",
     "text": [
      "avg\n",
      "G\n",
      "AB\n",
      "R\n",
      "H\n",
      "2B\n",
      "3B\n",
      "HR\n",
      "TB\n",
      "RBI\n",
      "SB\n",
      "CS\n",
      "BB\n",
      "HBP\n",
      "SO\n",
      "GDP\n",
      "SLG\n",
      "OBP\n",
      "E\n",
      "1b_luck\n",
      "2b_luck\n",
      "3b_luck\n",
      "avg\n",
      "G\n",
      "AB\n",
      "R\n",
      "H\n",
      "2B\n",
      "3B\n",
      "HR\n",
      "TB\n",
      "RBI\n",
      "SB\n",
      "CS\n",
      "BB\n",
      "HBP\n",
      "SO\n",
      "GDP\n",
      "SLG\n",
      "OBP\n",
      "E\n",
      "1b_luck\n",
      "2b_luck\n",
      "3b_luck\n",
      "avg\n",
      "G\n",
      "AB\n",
      "R\n",
      "H\n",
      "2B\n",
      "3B\n",
      "HR\n",
      "TB\n",
      "RBI\n",
      "SB\n",
      "CS\n",
      "BB\n",
      "HBP\n",
      "SO\n",
      "GDP\n",
      "SLG\n",
      "OBP\n",
      "E\n",
      "1b_luck\n",
      "2b_luck\n",
      "3b_luck\n"
     ]
    }
   ],
   "source": [
    "data = make_dataset(3,regular)"
   ]
  },
  {
   "cell_type": "markdown",
   "metadata": {},
   "source": [
    "## 팀, 포지션 범주화"
   ]
  },
  {
   "cell_type": "code",
   "execution_count": 78,
   "metadata": {},
   "outputs": [],
   "source": [
    "# 팀 범주화\n",
    "data = pd.concat([data,pd.get_dummies(data[\"team\"])], axis=1)"
   ]
  },
  {
   "cell_type": "code",
   "execution_count": 50,
   "metadata": {},
   "outputs": [],
   "source": [
    "# 포지션 범주화\n",
    "data = pd.concat([data,pd.get_dummies(data[\"position\"])], axis=1)"
   ]
  },
  {
   "cell_type": "markdown",
   "metadata": {},
   "source": [
    "## train set에서 제거해야할 칼럼"
   ]
  },
  {
   "cell_type": "code",
   "execution_count": 108,
   "metadata": {},
   "outputs": [],
   "source": [
    "# total, 최근 1,2,3년 변수들과 age변수 반영\n",
    "input_columns = list(data.columns)[34:]+[\"age\",\"OPS\"]"
   ]
  },
  {
   "cell_type": "markdown",
   "metadata": {},
   "source": [
    "## 2015년 이후 데이터만 반영 VS 전체 데이터셋을 모두 반영\n",
    "- 2015년 이전에 데이터는 그 이후 데이터와 경향성이 다르기 때문에 2015년 이후 데이터만 반영"
   ]
  },
  {
   "cell_type": "code",
   "execution_count": 195,
   "metadata": {},
   "outputs": [],
   "source": [
    "# 2015년 이후 데이터로만 구성된 데이터셋\n",
    "data_2015 = data.loc[data[\"year\"]>=2015,]\n",
    "data_2015 = data_2015.loc[data[\"AB\"]>10,]"
   ]
  },
  {
   "cell_type": "code",
   "execution_count": 203,
   "metadata": {},
   "outputs": [],
   "source": [
    "raw = data[:]"
   ]
  },
  {
   "cell_type": "code",
   "execution_count": 204,
   "metadata": {},
   "outputs": [],
   "source": [
    "# 전체 데이터셋\n",
    "data = data.loc[data[\"AB\"]>10,]"
   ]
  },
  {
   "cell_type": "markdown",
   "metadata": {},
   "source": [
    "## train,test set 분리"
   ]
  },
  {
   "cell_type": "code",
   "execution_count": 205,
   "metadata": {},
   "outputs": [],
   "source": [
    "# 전체년도\n",
    "train = data.loc[data[\"year\"]!=2018,input_columns]\n",
    "test = data.loc[data[\"year\"]==2018,input_columns]\n",
    "\n",
    "# OPS에서 null인 값 제거\n",
    "train = train.loc[train[\"OPS\"].dropna().index,:]\n",
    "test = test.loc[test[\"OPS\"].dropna().index,:]"
   ]
  },
  {
   "cell_type": "code",
   "execution_count": 206,
   "metadata": {},
   "outputs": [],
   "source": [
    "# 2015년 이후\n",
    "train_2015 = data_2015.loc[data_2015[\"year\"]!=2018,input_columns]\n",
    "test_2015 = data_2015.loc[data_2015[\"year\"]==2018,input_columns]\n",
    "\n",
    "# OPS에서 null인 값 제거\n",
    "train_2015 = train_2015.loc[train_2015[\"OPS\"].dropna().index,:]\n",
    "test_2015 = test_2015.loc[test_2015[\"OPS\"].dropna().index,:]"
   ]
  },
  {
   "cell_type": "code",
   "execution_count": 207,
   "metadata": {},
   "outputs": [],
   "source": [
    "train_2015_X = train_2015.drop([\"OPS\"], axis=1)\n",
    "train_2015_y = train_2015[\"OPS\"]\n",
    "\n",
    "train_X = train.drop([\"OPS\"], axis=1)\n",
    "train_y = train[\"OPS\"]"
   ]
  },
  {
   "cell_type": "code",
   "execution_count": 208,
   "metadata": {},
   "outputs": [],
   "source": [
    "test_2015_X = test_2015.drop([\"OPS\"], axis=1)\n",
    "test_2015_y = test_2015[\"OPS\"]\n",
    "\n",
    "test_X = test.drop([\"OPS\"], axis=1)\n",
    "test_y = test[\"OPS\"]"
   ]
  },
  {
   "cell_type": "markdown",
   "metadata": {},
   "source": [
    "## XGBoost를 통한 모델링"
   ]
  },
  {
   "cell_type": "markdown",
   "metadata": {},
   "source": [
    "### 2015년 이후 데이터로만"
   ]
  },
  {
   "cell_type": "code",
   "execution_count": 136,
   "metadata": {},
   "outputs": [],
   "source": [
    "import xgboost as xgb"
   ]
  },
  {
   "cell_type": "code",
   "execution_count": 218,
   "metadata": {
    "scrolled": true
   },
   "outputs": [
    {
     "name": "stdout",
     "output_type": "stream",
     "text": [
      "[13:14:10] WARNING: C:\\Users\\Administrator\\workspace\\xgboost-win64_release_1.2.0\\src\\learner.cc:516: \n",
      "Parameters: { silent } might not be used.\n",
      "\n",
      "  This may not be accurate due to some parameters are only used in language bindings but\n",
      "  passed down to XGBoost core.  Or some parameters are not used but slip through this\n",
      "  verification. Please open an issue if you find above cases.\n",
      "\n",
      "\n",
      "[0]\tvalidation_0-rmse:0.26726\n",
      "Will train until validation_0-rmse hasn't improved in 100 rounds.\n",
      "[5]\tvalidation_0-rmse:0.20137\n",
      "[10]\tvalidation_0-rmse:0.17229\n",
      "[15]\tvalidation_0-rmse:0.16146\n",
      "[20]\tvalidation_0-rmse:0.15755\n",
      "[25]\tvalidation_0-rmse:0.15653\n",
      "[30]\tvalidation_0-rmse:0.15622\n",
      "[35]\tvalidation_0-rmse:0.15614\n",
      "[40]\tvalidation_0-rmse:0.15613\n",
      "[45]\tvalidation_0-rmse:0.15613\n",
      "[50]\tvalidation_0-rmse:0.15614\n",
      "[55]\tvalidation_0-rmse:0.15615\n",
      "[60]\tvalidation_0-rmse:0.15615\n",
      "[65]\tvalidation_0-rmse:0.15615\n",
      "[70]\tvalidation_0-rmse:0.15615\n",
      "[75]\tvalidation_0-rmse:0.15615\n",
      "[80]\tvalidation_0-rmse:0.15615\n",
      "[85]\tvalidation_0-rmse:0.15615\n",
      "[90]\tvalidation_0-rmse:0.15615\n",
      "[95]\tvalidation_0-rmse:0.15615\n",
      "[100]\tvalidation_0-rmse:0.15616\n",
      "[105]\tvalidation_0-rmse:0.15616\n",
      "[110]\tvalidation_0-rmse:0.15616\n",
      "[115]\tvalidation_0-rmse:0.15616\n",
      "[120]\tvalidation_0-rmse:0.15616\n",
      "[125]\tvalidation_0-rmse:0.15616\n",
      "[130]\tvalidation_0-rmse:0.15616\n",
      "[135]\tvalidation_0-rmse:0.15616\n",
      "Stopping. Best iteration:\n",
      "[39]\tvalidation_0-rmse:0.15613\n",
      "\n"
     ]
    },
    {
     "data": {
      "text/plain": [
       "XGBRegressor(base_score=0.5, booster='gbtree', colsample_bylevel=1,\n",
       "             colsample_bynode=1, colsample_bytree=1, gamma=0.2, gpu_id=-1,\n",
       "             importance_type='gain', interaction_constraints='',\n",
       "             learning_rate=0.1, max_delta_step=0, max_depth=14,\n",
       "             min_child_weight=1, missing=nan, monotone_constraints='()',\n",
       "             n_estimators=1000, n_jobs=0, num_parallel_tree=1, random_state=1,\n",
       "             reg_alpha=0, reg_lambda=1, scale_pos_weight=1, silent=False,\n",
       "             subsample=1, tree_method='exact', validate_parameters=1,\n",
       "             verbosity=None)"
      ]
     },
     "execution_count": 218,
     "metadata": {},
     "output_type": "execute_result"
    }
   ],
   "source": [
    "xgb_2015 = xgb.XGBRegressor(silent=False, objective = 'reg:squarederror',gamma = 0.2,\n",
    "                                   max_depth=14, random_state = 1, n_estimators=1000,learning_rate = 0.1)\n",
    "xgb_2015.fit(train_2015_X,train_2015_y, eval_set=[(test_2015_X,test_2015_y)],\n",
    "             early_stopping_rounds=100,verbose=5)"
   ]
  },
  {
   "cell_type": "markdown",
   "metadata": {},
   "source": [
    "### 모든 데이터로"
   ]
  },
  {
   "cell_type": "code",
   "execution_count": 215,
   "metadata": {},
   "outputs": [
    {
     "name": "stdout",
     "output_type": "stream",
     "text": [
      "[13:12:24] WARNING: C:\\Users\\Administrator\\workspace\\xgboost-win64_release_1.2.0\\src\\learner.cc:516: \n",
      "Parameters: { silent } might not be used.\n",
      "\n",
      "  This may not be accurate due to some parameters are only used in language bindings but\n",
      "  passed down to XGBoost core.  Or some parameters are not used but slip through this\n",
      "  verification. Please open an issue if you find above cases.\n",
      "\n",
      "\n",
      "[0]\tvalidation_0-rmse:0.24825\n",
      "Will train until validation_0-rmse hasn't improved in 100 rounds.\n",
      "[5]\tvalidation_0-rmse:0.16549\n",
      "[10]\tvalidation_0-rmse:0.15167\n",
      "[15]\tvalidation_0-rmse:0.14919\n",
      "[20]\tvalidation_0-rmse:0.14893\n",
      "[25]\tvalidation_0-rmse:0.14886\n",
      "[30]\tvalidation_0-rmse:0.14883\n",
      "[35]\tvalidation_0-rmse:0.14883\n",
      "[40]\tvalidation_0-rmse:0.14883\n",
      "[45]\tvalidation_0-rmse:0.14883\n",
      "[50]\tvalidation_0-rmse:0.14883\n",
      "[55]\tvalidation_0-rmse:0.14883\n",
      "[60]\tvalidation_0-rmse:0.14883\n",
      "[65]\tvalidation_0-rmse:0.14883\n",
      "[70]\tvalidation_0-rmse:0.14883\n",
      "[75]\tvalidation_0-rmse:0.14883\n",
      "[80]\tvalidation_0-rmse:0.14883\n",
      "[85]\tvalidation_0-rmse:0.14883\n",
      "[90]\tvalidation_0-rmse:0.14883\n",
      "[95]\tvalidation_0-rmse:0.14883\n",
      "[100]\tvalidation_0-rmse:0.14883\n",
      "[105]\tvalidation_0-rmse:0.14883\n",
      "[110]\tvalidation_0-rmse:0.14883\n",
      "[115]\tvalidation_0-rmse:0.14883\n",
      "[120]\tvalidation_0-rmse:0.14883\n",
      "[125]\tvalidation_0-rmse:0.14883\n",
      "[130]\tvalidation_0-rmse:0.14883\n",
      "[135]\tvalidation_0-rmse:0.14883\n",
      "[140]\tvalidation_0-rmse:0.14883\n",
      "[145]\tvalidation_0-rmse:0.14883\n",
      "Stopping. Best iteration:\n",
      "[47]\tvalidation_0-rmse:0.14883\n",
      "\n"
     ]
    },
    {
     "data": {
      "text/plain": [
       "XGBRegressor(base_score=0.5, booster='gbtree', colsample_bylevel=1,\n",
       "             colsample_bynode=1, colsample_bytree=1, gamma=0.2, gpu_id=-1,\n",
       "             importance_type='gain', interaction_constraints='',\n",
       "             learning_rate=0.2, max_delta_step=0, max_depth=14,\n",
       "             min_child_weight=1, missing=nan, monotone_constraints='()',\n",
       "             n_estimators=1000, n_jobs=0, num_parallel_tree=1, random_state=1,\n",
       "             reg_alpha=0, reg_lambda=1, scale_pos_weight=1, silent=False,\n",
       "             subsample=1, tree_method='exact', validate_parameters=1,\n",
       "             verbosity=None)"
      ]
     },
     "execution_count": 215,
     "metadata": {},
     "output_type": "execute_result"
    }
   ],
   "source": [
    "xgb_all = xgb.XGBRegressor(silent=False, objective = 'reg:squarederror',gamma = 0.2,\n",
    "                                   max_depth=14, random_state = 1, n_estimators=1000,learning_rate = 0.1)\n",
    "\n",
    "xgb_all.fit(train_X,train_y, eval_set=[(test_X,test_y)],\n",
    "             early_stopping_rounds=100,verbose=5)"
   ]
  },
  {
   "cell_type": "markdown",
   "metadata": {},
   "source": [
    "-> 2015년 이후 데이터 만을 반영하는 것이 성능이 더 좋음"
   ]
  }
 ],
 "metadata": {
  "kernelspec": {
   "display_name": "Python 3",
   "language": "python",
   "name": "python3"
  },
  "language_info": {
   "codemirror_mode": {
    "name": "ipython",
    "version": 3
   },
   "file_extension": ".py",
   "mimetype": "text/x-python",
   "name": "python",
   "nbconvert_exporter": "python",
   "pygments_lexer": "ipython3",
   "version": "3.8.3"
  }
 },
 "nbformat": 4,
 "nbformat_minor": 4
}
